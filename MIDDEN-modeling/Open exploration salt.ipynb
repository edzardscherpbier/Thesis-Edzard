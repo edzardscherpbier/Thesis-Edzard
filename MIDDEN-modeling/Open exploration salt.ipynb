{
 "cells": [
  {
   "cell_type": "markdown",
   "metadata": {},
   "source": [
    "# MIDDEN Salt Model - Open Exploration\n",
    "\n",
    "## Model initialization"
   ]
  },
  {
   "cell_type": "code",
   "execution_count": 1,
   "metadata": {
    "collapsed": false
   },
   "outputs": [
    {
     "name": "stderr",
     "output_type": "stream",
     "text": [
      "C:\\Users\\Edzard\\Anaconda\\lib\\site-packages\\ema_workbench\\connectors\\__init__.py:18: ImportWarning: netlogo connector not available\n",
      "  warnings.warn(\"netlogo connector not available\", ImportWarning)\n",
      "C:\\Users\\Edzard\\Anaconda\\lib\\site-packages\\xarray\\core\\formatting.py:16: FutureWarning: The pandas.tslib module is deprecated and will be removed in a future version.\n",
      "  from pandas.tslib import OutOfBoundsDatetime\n",
      "C:\\Users\\Edzard\\Anaconda\\lib\\importlib\\_bootstrap.py:205: ImportWarning: can't resolve package from __spec__ or __package__, falling back on __name__ and __path__\n",
      "  return f(*args, **kwds)\n",
      "C:\\Users\\Edzard\\Anaconda\\lib\\importlib\\_bootstrap.py:205: ImportWarning: can't resolve package from __spec__ or __package__, falling back on __name__ and __path__\n",
      "  return f(*args, **kwds)\n"
     ]
    }
   ],
   "source": [
    "from __future__ import (division, print_function, absolute_import, unicode_literals)\n",
    "from ema_workbench import (RealParameter, IntegerParameter, TimeSeriesOutcome, ScalarOutcome, \n",
    "                           ema_logging, perform_experiments, save_results, load_results)\n",
    "from ema_workbench.connectors.excel import ExcelModel\n",
    "from ema_workbench.em_framework import (salib_samplers, samplers, util,\n",
    "                                        MultiprocessingEvaluator, SequentialEvaluator) \n",
    "from ema_workbench.analysis import prim\n",
    "from ema_workbench import ema_logging\n",
    "ema_logging.log_to_stderr(ema_logging.INFO)\n",
    "\n",
    "import numpy.lib.recfunctions as rf\n",
    "import numpy as np\n",
    "import matplotlib.pyplot as plt\n",
    "import mpld3\n",
    "import pandas as pd"
   ]
  },
  {
   "cell_type": "code",
   "execution_count": 2,
   "metadata": {
    "collapsed": false
   },
   "outputs": [],
   "source": [
    "ema_logging.log_to_stderr(level=ema_logging.INFO)\n",
    "\n",
    "model = ExcelModel(\"excelmodel\", wd=\"./Models\", model_file='MIDDEN Decarbonization options salt final.xlsx')\n",
    "\n",
    "#name of the sheet\n",
    "model.sheet = \"Experiment\"\n",
    "\n",
    "# Specification of the uncertainties\n",
    "model.uncertainties = [IntegerParameter(\"Price_scenario\", 1, 3),               # Integer value 1, 2, 3\n",
    "                       RealParameter(\"Discount_rate\", 0.0075, 0.075),           # May fluctuate between 2% and 5%\n",
    "                       RealParameter(\"Production_uncertainty\", 0.95, 1.05),    # May fluctuate between between 85% and 115% \n",
    "                       RealParameter(\"Efficiency_gain\", 0.0015, 0.0075),       # Yearly efficiency gain approx 0.5% (DNGVL)\n",
    "                       IntegerParameter(\"Investment_year\", 2020, 2025)         # Integer value range 2020 – 2030\n",
    "                      ]\n",
    "\n",
    "\n",
    "# Specification of the policies\n",
    "model.levers = [IntegerParameter('Electric_boiler_investments', 0, 3),        # 0=None; 1=Electric boilers; 2=MVR technology; 3=Hybrid\n",
    "                IntegerParameter('MVR_investments', 0, 3), # 0=None; 1=Electric boilers; 2=MVR technology; 3=Hybrid\n",
    "                IntegerParameter('Energy_tax', 0, 2),               # 0=None; 1=10%; 2=20%\n",
    "                IntegerParameter('Coal_plants_shutdown', 0, 1)     # 0=Present policy, 1=Envisaged policy\n",
    "               ]\n",
    "\n",
    "# Specification of the outcomes\n",
    "model.outcomes = [ScalarOutcome(\"Direct_emissions_2030\", kind=ScalarOutcome.MINIMIZE),\n",
    "                  ScalarOutcome(\"Direct_emission_change\", kind=ScalarOutcome.MINIMIZE),\n",
    "                  ScalarOutcome(\"Indirect_emissions_2030\", kind=ScalarOutcome.MINIMIZE),\n",
    "                  ScalarOutcome(\"Indirect_emission_change\", kind=ScalarOutcome.MINIMIZE),\n",
    "                  ScalarOutcome(\"Total_emissions_2030\", kind=ScalarOutcome.MINIMIZE),\n",
    "                  ScalarOutcome(\"Total_emission_change\", kind=ScalarOutcome.MINIMIZE),\n",
    "                  ScalarOutcome(\"IRR\", kind=ScalarOutcome.MAXIMIZE),\n",
    "                  ScalarOutcome(\"NPV\", kind=ScalarOutcome.MAXIMIZE),\n",
    "                  ScalarOutcome(\"Investment_cost\", kind=ScalarOutcome.MINIMIZE),\n",
    "                  ScalarOutcome(\"Yearly_production\", kind=ScalarOutcome.MAXIMIZE)\n",
    "                 ]"
   ]
  },
  {
   "cell_type": "markdown",
   "metadata": {},
   "source": [
    " ### Running experiment with policies\n"
   ]
  },
  {
   "cell_type": "code",
   "execution_count": 3,
   "metadata": {
    "collapsed": false
   },
   "outputs": [
    {
     "name": "stderr",
     "output_type": "stream",
     "text": [
      "[MainProcess/INFO] results loaded succesfully from C:\\Users\\Edzard\\Documents\\MIDDEN modeling\\Data\\Results salt - 500 scenarios 96 policies.tar.gz\n"
     ]
    }
   ],
   "source": [
    "#Running with policies\n",
    "n_scenarios = 500\n",
    "n_policies = 96\n",
    "results_bckp = './Data/Results salt - {} scenarios {} policies.tar.gz'.format(n_scenarios, n_policies)\n",
    "\n",
    "counter = util.Counter()\n",
    "policies = samplers.sample_levers(model, n_policies)\n",
    "\n",
    "try:\n",
    "    # Load results if experiment has already been conducted\n",
    "    results = load_results(results_bckp)\n",
    "\n",
    "except IOError:\n",
    "    # Running in parallel   \n",
    "    with MultiprocessingEvaluator(model) as evaluator:\n",
    "        results = evaluator.perform_experiments(n_scenarios, policies)\n",
    "    \n",
    "    #Running in series\n",
    "    #results = perform_experiments(model, n_scenarios)\n",
    "    \n",
    "    save_results(results, results_bckp)\n",
    "\n",
    "experiments, outcomes = results"
   ]
  },
  {
   "cell_type": "code",
   "execution_count": 4,
   "metadata": {
    "collapsed": false
   },
   "outputs": [],
   "source": [
    "# Creating experiment DataFrame\n",
    "experiment_data=pd.DataFrame(experiments)\n",
    "outcome_data = pd.DataFrame(outcomes)\n",
    "results_df=pd.concat([experiment_data, outcome_data], axis=1)"
   ]
  },
  {
   "cell_type": "markdown",
   "metadata": {},
   "source": [
    "## Feature scoring"
   ]
  },
  {
   "cell_type": "code",
   "execution_count": 5,
   "metadata": {
    "collapsed": false
   },
   "outputs": [
    {
     "name": "stderr",
     "output_type": "stream",
     "text": [
      "C:\\Users\\Edzard\\Anaconda\\lib\\importlib\\_bootstrap.py:205: ImportWarning: can't resolve package from __spec__ or __package__, falling back on __name__ and __path__\n",
      "  return f(*args, **kwds)\n",
      "C:\\Users\\Edzard\\Anaconda\\lib\\importlib\\_bootstrap.py:205: ImportWarning: can't resolve package from __spec__ or __package__, falling back on __name__ and __path__\n",
      "  return f(*args, **kwds)\n"
     ]
    }
   ],
   "source": [
    "import seaborn as sns\n",
    "import numpy.lib.recfunctions as rf\n",
    "from ema_workbench.analysis import feature_scoring\n",
    "from ema_workbench.analysis.feature_scoring import get_feature_scores_all\n",
    "\n",
    "experiments, outcomes = results"
   ]
  },
  {
   "cell_type": "markdown",
   "metadata": {},
   "source": [
    "### Feature scoring uncertainties to performance metrics"
   ]
  },
  {
   "cell_type": "code",
   "execution_count": 6,
   "metadata": {
    "collapsed": true
   },
   "outputs": [],
   "source": [
    "# Defining the x space for feature scoring\n",
    "x = experiments\n",
    "x = rf.drop_fields(x, ['Electric_boiler_investments', 'MVR_investments', 'Energy_tax','Coal_plants_shutdown', 'Investment_year',\n",
    "                       'policy','model'], \n",
    "                   asrecarray=True)"
   ]
  },
  {
   "cell_type": "code",
   "execution_count": 7,
   "metadata": {
    "collapsed": false
   },
   "outputs": [],
   "source": [
    "# Defining the y-space for the feature scoring\n",
    "y_df = pd.DataFrame(outcomes)\n",
    "y_df=y_df[['Direct_emission_change','Indirect_emission_change','Total_emission_change','NPV','IRR', 'Investment_cost']]\n",
    "\n",
    "y_dict = y_df.to_dict('list')\n",
    "for key in y_dict.keys():\n",
    "    y_dict[key] = np.array(y_dict[key])\n",
    "\n",
    "y = y_dict"
   ]
  },
  {
   "cell_type": "code",
   "execution_count": 8,
   "metadata": {
    "collapsed": false
   },
   "outputs": [
    {
     "name": "stderr",
     "output_type": "stream",
     "text": [
      "C:\\Users\\Edzard\\Anaconda\\lib\\site-packages\\pandas\\core\\frame.py:6211: FutureWarning: Sorting because non-concatenation axis is not aligned. A future version\n",
      "of pandas will change to not sort by default.\n",
      "\n",
      "To accept the future behavior, pass 'sort=False'.\n",
      "\n",
      "To retain the current behavior and silence the warning, pass 'sort=True'.\n",
      "\n",
      "  sort=sort)\n",
      "C:\\Users\\Edzard\\Anaconda\\lib\\site-packages\\pandas\\core\\frame.py:6211: FutureWarning: Sorting because non-concatenation axis is not aligned. A future version\n",
      "of pandas will change to not sort by default.\n",
      "\n",
      "To accept the future behavior, pass 'sort=False'.\n",
      "\n",
      "To retain the current behavior and silence the warning, pass 'sort=True'.\n",
      "\n",
      "  sort=sort)\n",
      "C:\\Users\\Edzard\\Anaconda\\lib\\site-packages\\pandas\\core\\frame.py:6211: FutureWarning: Sorting because non-concatenation axis is not aligned. A future version\n",
      "of pandas will change to not sort by default.\n",
      "\n",
      "To accept the future behavior, pass 'sort=False'.\n",
      "\n",
      "To retain the current behavior and silence the warning, pass 'sort=True'.\n",
      "\n",
      "  sort=sort)\n"
     ]
    },
    {
     "data": {
      "text/html": [
       "<div>\n",
       "<style scoped>\n",
       "    .dataframe tbody tr th:only-of-type {\n",
       "        vertical-align: middle;\n",
       "    }\n",
       "\n",
       "    .dataframe tbody tr th {\n",
       "        vertical-align: top;\n",
       "    }\n",
       "\n",
       "    .dataframe thead th {\n",
       "        text-align: right;\n",
       "    }\n",
       "</style>\n",
       "<table border=\"1\" class=\"dataframe\">\n",
       "  <thead>\n",
       "    <tr style=\"text-align: right;\">\n",
       "      <th></th>\n",
       "      <th>Direct_emission_change</th>\n",
       "      <th>Indirect_emission_change</th>\n",
       "      <th>Total_emission_change</th>\n",
       "      <th>NPV</th>\n",
       "      <th>IRR</th>\n",
       "      <th>Investment_cost</th>\n",
       "    </tr>\n",
       "  </thead>\n",
       "  <tbody>\n",
       "    <tr>\n",
       "      <th>Discount_rate</th>\n",
       "      <td>0.201074</td>\n",
       "      <td>0.154619</td>\n",
       "      <td>0.070119</td>\n",
       "      <td>0.031851</td>\n",
       "      <td>0.314833</td>\n",
       "      <td>0.312732</td>\n",
       "    </tr>\n",
       "    <tr>\n",
       "      <th>Efficiency_gain</th>\n",
       "      <td>0.315790</td>\n",
       "      <td>0.184072</td>\n",
       "      <td>0.170806</td>\n",
       "      <td>0.017730</td>\n",
       "      <td>0.330003</td>\n",
       "      <td>0.310135</td>\n",
       "    </tr>\n",
       "    <tr>\n",
       "      <th>Price_scenario</th>\n",
       "      <td>0.090673</td>\n",
       "      <td>0.067793</td>\n",
       "      <td>0.039356</td>\n",
       "      <td>0.925615</td>\n",
       "      <td>0.043214</td>\n",
       "      <td>0.068520</td>\n",
       "    </tr>\n",
       "    <tr>\n",
       "      <th>Production_uncertainty</th>\n",
       "      <td>0.392463</td>\n",
       "      <td>0.593516</td>\n",
       "      <td>0.719720</td>\n",
       "      <td>0.024804</td>\n",
       "      <td>0.311950</td>\n",
       "      <td>0.308612</td>\n",
       "    </tr>\n",
       "  </tbody>\n",
       "</table>\n",
       "</div>"
      ],
      "text/plain": [
       "                        Direct_emission_change  Indirect_emission_change  \\\n",
       "Discount_rate                         0.201074                  0.154619   \n",
       "Efficiency_gain                       0.315790                  0.184072   \n",
       "Price_scenario                        0.090673                  0.067793   \n",
       "Production_uncertainty                0.392463                  0.593516   \n",
       "\n",
       "                        Total_emission_change       NPV       IRR  \\\n",
       "Discount_rate                        0.070119  0.031851  0.314833   \n",
       "Efficiency_gain                      0.170806  0.017730  0.330003   \n",
       "Price_scenario                       0.039356  0.925615  0.043214   \n",
       "Production_uncertainty               0.719720  0.024804  0.311950   \n",
       "\n",
       "                        Investment_cost  \n",
       "Discount_rate                  0.312732  \n",
       "Efficiency_gain                0.310135  \n",
       "Price_scenario                 0.068520  \n",
       "Production_uncertainty         0.308612  "
      ]
     },
     "execution_count": 8,
     "metadata": {},
     "output_type": "execute_result"
    }
   ],
   "source": [
    "fs_all = get_feature_scores_all(x, y)\n",
    "fs_all"
   ]
  },
  {
   "cell_type": "code",
   "execution_count": 9,
   "metadata": {
    "collapsed": false
   },
   "outputs": [
    {
     "data": {
      "image/png": "[encoded data removed]",
      "text/plain": [
       "<matplotlib.figure.Figure at 0xb4cecb0>"
      ]
     },
     "metadata": {},
     "output_type": "display_data"
    }
   ],
   "source": [
    "sns.heatmap(fs_all, annot=True, cmap='Blues', linewidths=0.5)\n",
    "plt.show()"
   ]
  },
  {
   "cell_type": "markdown",
   "metadata": {},
   "source": [
    "### Feature scoring for policy levers"
   ]
  },
  {
   "cell_type": "code",
   "execution_count": 10,
   "metadata": {
    "collapsed": false
   },
   "outputs": [
    {
     "name": "stderr",
     "output_type": "stream",
     "text": [
      "C:\\Users\\Edzard\\Anaconda\\lib\\site-packages\\pandas\\core\\frame.py:6211: FutureWarning: Sorting because non-concatenation axis is not aligned. A future version\n",
      "of pandas will change to not sort by default.\n",
      "\n",
      "To accept the future behavior, pass 'sort=False'.\n",
      "\n",
      "To retain the current behavior and silence the warning, pass 'sort=True'.\n",
      "\n",
      "  sort=sort)\n",
      "C:\\Users\\Edzard\\Anaconda\\lib\\site-packages\\pandas\\core\\frame.py:6211: FutureWarning: Sorting because non-concatenation axis is not aligned. A future version\n",
      "of pandas will change to not sort by default.\n",
      "\n",
      "To accept the future behavior, pass 'sort=False'.\n",
      "\n",
      "To retain the current behavior and silence the warning, pass 'sort=True'.\n",
      "\n",
      "  sort=sort)\n",
      "C:\\Users\\Edzard\\Anaconda\\lib\\site-packages\\pandas\\core\\frame.py:6211: FutureWarning: Sorting because non-concatenation axis is not aligned. A future version\n",
      "of pandas will change to not sort by default.\n",
      "\n",
      "To accept the future behavior, pass 'sort=False'.\n",
      "\n",
      "To retain the current behavior and silence the warning, pass 'sort=True'.\n",
      "\n",
      "  sort=sort)\n",
      "C:\\Users\\Edzard\\Anaconda\\lib\\site-packages\\pandas\\core\\frame.py:6211: FutureWarning: Sorting because non-concatenation axis is not aligned. A future version\n",
      "of pandas will change to not sort by default.\n",
      "\n",
      "To accept the future behavior, pass 'sort=False'.\n",
      "\n",
      "To retain the current behavior and silence the warning, pass 'sort=True'.\n",
      "\n",
      "  sort=sort)\n",
      "C:\\Users\\Edzard\\Anaconda\\lib\\site-packages\\pandas\\core\\frame.py:6211: FutureWarning: Sorting because non-concatenation axis is not aligned. A future version\n",
      "of pandas will change to not sort by default.\n",
      "\n",
      "To accept the future behavior, pass 'sort=False'.\n",
      "\n",
      "To retain the current behavior and silence the warning, pass 'sort=True'.\n",
      "\n",
      "  sort=sort)\n"
     ]
    }
   ],
   "source": [
    "# Defining the x space for feature scoring\n",
    "x = experiments\n",
    "x = rf.drop_fields(x, ['Discount_rate','Efficiency_gain','Price_scenario','Production_uncertainty',\n",
    "                       'policy', 'model'], \n",
    "                   asrecarray=True)\n",
    "fs_all = get_feature_scores_all(x, y)"
   ]
  },
  {
   "cell_type": "code",
   "execution_count": 11,
   "metadata": {
    "collapsed": false
   },
   "outputs": [
    {
     "data": {
      "image/png": "[encoded data removed]",
      "text/plain": [
       "<matplotlib.figure.Figure at 0xb718b10>"
      ]
     },
     "metadata": {},
     "output_type": "display_data"
    }
   ],
   "source": [
    "sns.heatmap(fs_all, annot=True, cmap='Blues', linewidths=0.5)\n",
    "plt.show()"
   ]
  },
  {
   "cell_type": "code",
   "execution_count": null,
   "metadata": {
    "collapsed": true
   },
   "outputs": [],
   "source": []
  },
  {
   "cell_type": "markdown",
   "metadata": {},
   "source": [
    "## Filtering output space to explore desired outcomes"
   ]
  },
  {
   "cell_type": "code",
   "execution_count": 12,
   "metadata": {
    "collapsed": false
   },
   "outputs": [],
   "source": [
    "import copy\n",
    "data = copy.copy(outcomes)\n",
    "data = pd.DataFrame(data)"
   ]
  },
  {
   "cell_type": "code",
   "execution_count": 13,
   "metadata": {
    "collapsed": false
   },
   "outputs": [],
   "source": [
    "# Filtering scenarios\n",
    "data['NPV_pos']=data.NPV>0 \n",
    "data['Direct_emissions_ETS'] = data.Direct_emissions_2030<490\n",
    "data['Total_emission_change_neg'] = data.Total_emission_change<-65.88\n",
    "results_df['Filter']= data['NPV_pos']&data['Direct_emissions_ETS']&data['Total_emission_change_neg']"
   ]
  },
  {
   "cell_type": "code",
   "execution_count": 14,
   "metadata": {
    "collapsed": false
   },
   "outputs": [],
   "source": [
    "filtered_results=results_df.loc[results_df['Filter']]"
   ]
  },
  {
   "cell_type": "code",
   "execution_count": 15,
   "metadata": {
    "collapsed": false
   },
   "outputs": [
    {
     "name": "stdout",
     "output_type": "stream",
     "text": [
      "9851 48000 0.20522916666666666\n"
     ]
    }
   ],
   "source": [
    "print(len(filtered_results), len(results_df), len(filtered_results)/len(results_df))"
   ]
  },
  {
   "cell_type": "code",
   "execution_count": 16,
   "metadata": {
    "collapsed": false
   },
   "outputs": [
    {
     "name": "stderr",
     "output_type": "stream",
     "text": [
      "C:\\Users\\Edzard\\Anaconda\\lib\\site-packages\\pandas\\core\\frame.py:6211: FutureWarning: Sorting because non-concatenation axis is not aligned. A future version\n",
      "of pandas will change to not sort by default.\n",
      "\n",
      "To accept the future behavior, pass 'sort=False'.\n",
      "\n",
      "To retain the current behavior and silence the warning, pass 'sort=True'.\n",
      "\n",
      "  sort=sort)\n",
      "C:\\Users\\Edzard\\Anaconda\\lib\\site-packages\\pandas\\core\\frame.py:6211: FutureWarning: Sorting because non-concatenation axis is not aligned. A future version\n",
      "of pandas will change to not sort by default.\n",
      "\n",
      "To accept the future behavior, pass 'sort=False'.\n",
      "\n",
      "To retain the current behavior and silence the warning, pass 'sort=True'.\n",
      "\n",
      "  sort=sort)\n",
      "C:\\Users\\Edzard\\Anaconda\\lib\\site-packages\\pandas\\core\\frame.py:6211: FutureWarning: Sorting because non-concatenation axis is not aligned. A future version\n",
      "of pandas will change to not sort by default.\n",
      "\n",
      "To accept the future behavior, pass 'sort=False'.\n",
      "\n",
      "To retain the current behavior and silence the warning, pass 'sort=True'.\n",
      "\n",
      "  sort=sort)\n",
      "C:\\Users\\Edzard\\Anaconda\\lib\\site-packages\\pandas\\core\\frame.py:6211: FutureWarning: Sorting because non-concatenation axis is not aligned. A future version\n",
      "of pandas will change to not sort by default.\n",
      "\n",
      "To accept the future behavior, pass 'sort=False'.\n",
      "\n",
      "To retain the current behavior and silence the warning, pass 'sort=True'.\n",
      "\n",
      "  sort=sort)\n"
     ]
    },
    {
     "data": {
      "image/png": "[encoded data removed]",
      "text/plain": [
       "<matplotlib.figure.Figure at 0xa0037d0>"
      ]
     },
     "metadata": {},
     "output_type": "display_data"
    }
   ],
   "source": [
    "# Selecting relevant frames from filters \n",
    "\n",
    "# Policies\n",
    "x_df = filtered_results[['Electric_boiler_investments','MVR_investments','Coal_plants_shutdown','Energy_tax']]\n",
    "x = x_df.to_records(index=False)\n",
    "\n",
    "# Outcomes\n",
    "y_df = filtered_results[['Direct_emission_change','Indirect_emission_change','Total_emission_change','NPV','IRR']]\n",
    "y_dict = y_df.to_dict('list')\n",
    "for key in y_dict.keys():\n",
    "    y_dict[key] = np.array(y_dict[key])\n",
    "\n",
    "y = y_dict\n",
    "\n",
    "fs_all = get_feature_scores_all(x, y)\n",
    "sns.heatmap(fs_all, annot=True, cmap='YlGnBu', linewidths=0.5)\n",
    "plt.show()"
   ]
  },
  {
   "cell_type": "code",
   "execution_count": 17,
   "metadata": {
    "collapsed": false
   },
   "outputs": [
    {
     "data": {
      "text/plain": [
       "Electric_boiler_investments    1.104760\n",
       "MVR_investments                0.764724\n",
       "Coal_plants_shutdown           0.190138\n",
       "Energy_tax                     0.713375\n",
       "dtype: float64"
      ]
     },
     "execution_count": 17,
     "metadata": {},
     "output_type": "execute_result"
    }
   ],
   "source": [
    "filtered_results[['Electric_boiler_investments','MVR_investments','Coal_plants_shutdown','Energy_tax']].std()"
   ]
  },
  {
   "cell_type": "code",
   "execution_count": 18,
   "metadata": {
    "collapsed": false
   },
   "outputs": [
    {
     "data": {
      "text/plain": [
       "Electric_boiler_investments    1.122627\n",
       "MVR_investments                2.370013\n",
       "Coal_plants_shutdown           0.962440\n",
       "Energy_tax                     1.431631\n",
       "dtype: float64"
      ]
     },
     "execution_count": 18,
     "metadata": {},
     "output_type": "execute_result"
    }
   ],
   "source": [
    "filtered_results[['Electric_boiler_investments','MVR_investments','Coal_plants_shutdown','Energy_tax']].mean()"
   ]
  },
  {
   "cell_type": "markdown",
   "metadata": {
    "collapsed": true
   },
   "source": [
    "## Dimensional stack "
   ]
  },
  {
   "cell_type": "code",
   "execution_count": 19,
   "metadata": {
    "collapsed": false
   },
   "outputs": [
    {
     "name": "stdout",
     "output_type": "stream",
     "text": [
      "9851 48000 -38149 0.205229166667\n"
     ]
    }
   ],
   "source": [
    "print(np.sum(results_df['Filter']), len(results_df['Filter']), np.sum(results_df['Filter']) - len(results_df['Filter']),  np.sum(results_df['Filter'])/len(results_df['Filter']))"
   ]
  },
  {
   "cell_type": "code",
   "execution_count": 20,
   "metadata": {
    "collapsed": false
   },
   "outputs": [
    {
     "data": {
      "image/png": "[encoded data removed]",
      "text/plain": [
       "<matplotlib.figure.Figure at 0xb718570>"
      ]
     },
     "execution_count": 20,
     "metadata": {},
     "output_type": "execute_result"
    }
   ],
   "source": [
    "from ema_workbench.analysis import dimensional_stacking\n",
    "\n",
    "# Selecting successful policies\n",
    "x_df = results_df[['Electric_boiler_investments','MVR_investments', \n",
    "                         'Energy_tax','Coal_plants_shutdown' ]]\n",
    "x = x_df.to_records(index=False)\n",
    "\n",
    "# Filtering output space\n",
    "y = np.array(results_df['Filter'])\n",
    "\n",
    "dimensional_stacking.create_pivot_plot(x,y, nr_levels=2, nbins=2)\n",
    "#plt.show()"
   ]
  },
  {
   "cell_type": "markdown",
   "metadata": {},
   "source": [
    "## Visualizing filtered output space"
   ]
  },
  {
   "cell_type": "code",
   "execution_count": 21,
   "metadata": {
    "collapsed": false
   },
   "outputs": [
    {
     "name": "stdout",
     "output_type": "stream",
     "text": [
      "-10.736797056618158 793.7816222364576\n"
     ]
    }
   ],
   "source": [
    "print(min(results_df['Indirect_emission_change']), max(results_df['Indirect_emission_change']))"
   ]
  },
  {
   "cell_type": "code",
   "execution_count": 22,
   "metadata": {
    "collapsed": false
   },
   "outputs": [
    {
     "name": "stderr",
     "output_type": "stream",
     "text": [
      "[MainProcess/INFO] results loaded succesfully from C:\\Users\\Edzard\\Documents\\MIDDEN modeling\\Data\\Results salt - 100 scenarios 96 policies.tar.gz\n"
     ]
    }
   ],
   "source": [
    "# Loading run with 100 scenarios\n",
    "n_scenarios = 100\n",
    "n_policies = 96\n",
    "results_bckp = './Data/Results salt - {} scenarios {} policies.tar.gz'.format(n_scenarios, n_policies)\n",
    "\n",
    "results = load_results(results_bckp)"
   ]
  },
  {
   "cell_type": "code",
   "execution_count": null,
   "metadata": {
    "collapsed": true
   },
   "outputs": [],
   "source": []
  },
  {
   "cell_type": "code",
   "execution_count": 23,
   "metadata": {
    "collapsed": false
   },
   "outputs": [
    {
     "data": {
      "text/html": [
       "<iframe id=\"igraph\" scrolling=\"no\" style=\"border:none;\" seamless=\"seamless\" src=\"https://plot.ly/~europemigration/18.embed\" height=\"525px\" width=\"100%\"></iframe>"
      ],
      "text/plain": [
       "<plotly.tools.PlotlyDisplay object>"
      ]
     },
     "execution_count": 23,
     "metadata": {},
     "output_type": "execute_result"
    }
   ],
   "source": [
    "import plotly.plotly as py\n",
    "import plotly.graph_objs as go\n",
    "\n",
    "parallel_plot_data = [\n",
    "    go.Parcoords(\n",
    "        line = dict(color = 'rgb(0, 176, 240)'\n",
    "                   ),\n",
    "        \n",
    "        dimensions = list([\n",
    "            dict(range = [0,800],\n",
    "                 constraintrange = [0,490],\n",
    "                 label = 'Direct emissions 2030 (kton CO2)', \n",
    "                 values = list(results_df['Direct_emissions_2030'])),\n",
    "            dict(range = [-200,800],\n",
    "                 label = 'Indirect emission change (kton CO2)', \n",
    "                 values = list(results_df['Indirect_emission_change'])),\n",
    "            dict(range = [-300,500],\n",
    "                 constraintrange = [-300,-65.88],\n",
    "                 label = 'Total emissions change (kton CO2)', \n",
    "                 values = list(results_df['Total_emission_change'])),\n",
    "            dict(range = [-1,2],\n",
    "                 constraintrange = [0,2],\n",
    "                 label = 'Internal rate of return (%)', \n",
    "                 values = list(results_df['IRR'])),\n",
    "            dict(range = [0,(10**8)],\n",
    "                 constraintrange = [(10**6),(10**8)],\n",
    "                 label = 'Investment cost (€)', \n",
    "                 values = list(results_df['Investment_cost'])),\n",
    "        ])\n",
    "    )\n",
    "]\n",
    "\n",
    "py.iplot(parallel_plot_data, filename = 'parcoord-dimensions')"
   ]
  },
  {
   "cell_type": "code",
   "execution_count": null,
   "metadata": {
    "collapsed": true
   },
   "outputs": [],
   "source": []
  }
 ],
 "metadata": {
  "kernelspec": {
   "display_name": "Python 3",
   "language": "python",
   "name": "python3"
  },
  "language_info": {
   "codemirror_mode": {
    "name": "ipython",
    "version": 3
   },
   "file_extension": ".py",
   "mimetype": "text/x-python",
   "name": "python",
   "nbconvert_exporter": "python",
   "pygments_lexer": "ipython3",
   "version": "3.6.0"
  }
 },
 "nbformat": 4,
 "nbformat_minor": 2
}
