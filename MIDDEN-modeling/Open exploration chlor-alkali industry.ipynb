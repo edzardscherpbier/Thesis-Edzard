{
 "cells": [
  {
   "cell_type": "markdown",
   "metadata": {},
   "source": [
    "# MIDDEN Chlor-alkali Model - Open Exploration\n",
    "\n",
    "## Model initialization"
   ]
  },
  {
   "cell_type": "code",
   "execution_count": 1,
   "metadata": {
    "collapsed": false
   },
   "outputs": [
    {
     "name": "stderr",
     "output_type": "stream",
     "text": [
      "C:\\Users\\Edzard\\Anaconda\\lib\\site-packages\\ema_workbench\\connectors\\__init__.py:18: ImportWarning: netlogo connector not available\n",
      "  warnings.warn(\"netlogo connector not available\", ImportWarning)\n",
      "C:\\Users\\Edzard\\Anaconda\\lib\\site-packages\\xarray\\core\\formatting.py:16: FutureWarning: The pandas.tslib module is deprecated and will be removed in a future version.\n",
      "  from pandas.tslib import OutOfBoundsDatetime\n",
      "C:\\Users\\Edzard\\Anaconda\\lib\\importlib\\_bootstrap.py:205: ImportWarning: can't resolve package from __spec__ or __package__, falling back on __name__ and __path__\n",
      "  return f(*args, **kwds)\n",
      "C:\\Users\\Edzard\\Anaconda\\lib\\importlib\\_bootstrap.py:205: ImportWarning: can't resolve package from __spec__ or __package__, falling back on __name__ and __path__\n",
      "  return f(*args, **kwds)\n"
     ]
    }
   ],
   "source": [
    "from __future__ import (division, print_function, absolute_import, unicode_literals)\n",
    "from ema_workbench import (RealParameter, IntegerParameter, TimeSeriesOutcome, ScalarOutcome, \n",
    "                           ema_logging, perform_experiments, save_results, load_results)\n",
    "from ema_workbench.connectors.excel import ExcelModel\n",
    "from ema_workbench.em_framework import (salib_samplers, samplers, util,\n",
    "                                        MultiprocessingEvaluator, SequentialEvaluator) \n",
    "from ema_workbench.analysis import prim\n",
    "from ema_workbench import ema_logging\n",
    "ema_logging.log_to_stderr(ema_logging.INFO)\n",
    "\n",
    "import numpy.lib.recfunctions as rf\n",
    "import numpy as np\n",
    "import matplotlib.pyplot as plt\n",
    "import mpld3\n",
    "import pandas as pd"
   ]
  },
  {
   "cell_type": "code",
   "execution_count": 2,
   "metadata": {
    "collapsed": false
   },
   "outputs": [],
   "source": [
    "ema_logging.log_to_stderr(level=ema_logging.INFO)\n",
    "\n",
    "model = ExcelModel(\"excelmodel\", wd=\"./Models\", model_file='MIDDEN Decarbonization options chlor-alkali final.xlsx')\n",
    "\n",
    "#name of the sheet\n",
    "model.sheet = \"Experiment\"\n",
    "\n",
    "# Specification of the uncertainties\n",
    "model.uncertainties = [IntegerParameter(\"Price_scenario\", 1, 3),               # Integer value 1, 2, 3\n",
    "                       RealParameter(\"Discount_rate\", 0.0075, 0.075),           # May fluctuate between 2% and 5%\n",
    "                       RealParameter(\"Production_uncertainty\", 0.95, 1.05),    # May fluctuate between between 85% and 115% \n",
    "                       RealParameter(\"Efficiency_gain\", 0.0015, 0.0075),       # Yearly efficiency gain approx 0.5% (DNGVL)\n",
    "                       IntegerParameter(\"Investment_year\", 2020, 2025) \n",
    "                      ]\n",
    "\n",
    "\n",
    "# Specification of the policies\n",
    "model.levers = [IntegerParameter('Electric_boiler_investments', 0, 2), \n",
    "                IntegerParameter('Biomass_boiler_investments', 0, 1),\n",
    "                IntegerParameter('Zero_gap_investments', 0, 2),\n",
    "                IntegerParameter('Peak_shaving_investments', 0, 1), # 0=None; 1=Electric boilers; 2=MVR technology; 3=Hybrid\n",
    "                IntegerParameter('Energy_tax', 0, 2),               # 0=None; 1=10%; 2=20%\n",
    "                IntegerParameter('Coal_plants_shutdown', 0, 1)      # 0=Present policy, 1=Envisaged policy\n",
    "                #IntegerParameter(\"Investment_year\", 2020, 2025)         # Integer value range 2020 – 2030\n",
    "               ]\n",
    "\n",
    "# Specification of the outcomes\n",
    "model.outcomes = [ScalarOutcome(\"Direct_emissions_2030\", kind=ScalarOutcome.MINIMIZE),\n",
    "                  ScalarOutcome(\"Direct_emission_change\", kind=ScalarOutcome.MINIMIZE),\n",
    "                  ScalarOutcome(\"Indirect_emissions_2030\", kind=ScalarOutcome.MINIMIZE),\n",
    "                  ScalarOutcome(\"Indirect_emission_change\", kind=ScalarOutcome.MINIMIZE),\n",
    "                  ScalarOutcome(\"Total_emissions_2030\", kind=ScalarOutcome.MINIMIZE),\n",
    "                  ScalarOutcome(\"Total_emission_change\", kind=ScalarOutcome.MINIMIZE),\n",
    "                  ScalarOutcome(\"IRR\", kind=ScalarOutcome.MAXIMIZE),\n",
    "                  ScalarOutcome(\"NPV\", kind=ScalarOutcome.MAXIMIZE),\n",
    "                  ScalarOutcome(\"Investment_cost\", kind=ScalarOutcome.MINIMIZE),\n",
    "                  ScalarOutcome(\"Yearly_production\", kind=ScalarOutcome.MAXIMIZE)\n",
    "                 ]"
   ]
  },
  {
   "cell_type": "markdown",
   "metadata": {},
   "source": [
    " ### Running experiment with policies\n"
   ]
  },
  {
   "cell_type": "code",
   "execution_count": 3,
   "metadata": {
    "collapsed": false
   },
   "outputs": [
    {
     "name": "stderr",
     "output_type": "stream",
     "text": [
      "[MainProcess/INFO] results loaded succesfully from C:\\Users\\Edzard\\Documents\\MIDDEN modeling\\Data\\Results chlor-alkali - 500 scenarios 216 policies.tar.gz\n"
     ]
    }
   ],
   "source": [
    "#Running with policies\n",
    "n_scenarios = 500\n",
    "n_policies = 216 #*5\n",
    "results_bckp = './Data/Results chlor-alkali - {} scenarios {} policies.tar.gz'.format(n_scenarios, n_policies)\n",
    "\n",
    "counter = util.Counter()\n",
    "policies = samplers.sample_levers(model, n_policies)\n",
    "\n",
    "try:\n",
    "    # Load results if experiment has already been conducted\n",
    "    results = load_results(results_bckp)\n",
    "\n",
    "except IOError:\n",
    "    # Running in parallel   \n",
    "    with MultiprocessingEvaluator(model) as evaluator:\n",
    "        results = evaluator.perform_experiments(n_scenarios, policies)\n",
    "    \n",
    "    #Running in series\n",
    "    #results = perform_experiments(model, n_scenarios)\n",
    "    \n",
    "    save_results(results, results_bckp)\n",
    "\n",
    "experiments, outcomes = results"
   ]
  },
  {
   "cell_type": "code",
   "execution_count": 4,
   "metadata": {
    "collapsed": false
   },
   "outputs": [],
   "source": [
    "# Creating experiment DataFrame\n",
    "experiment_data=pd.DataFrame(experiments)\n",
    "outcome_data = pd.DataFrame(outcomes)\n",
    "results_df=pd.concat([experiment_data, outcome_data], axis=1)"
   ]
  },
  {
   "cell_type": "code",
   "execution_count": 5,
   "metadata": {
    "collapsed": true
   },
   "outputs": [],
   "source": [
    "import seaborn as sns"
   ]
  },
  {
   "cell_type": "markdown",
   "metadata": {},
   "source": [
    "## Feature scoring"
   ]
  },
  {
   "cell_type": "code",
   "execution_count": 6,
   "metadata": {
    "collapsed": false
   },
   "outputs": [
    {
     "name": "stderr",
     "output_type": "stream",
     "text": [
      "C:\\Users\\Edzard\\Anaconda\\lib\\importlib\\_bootstrap.py:205: ImportWarning: can't resolve package from __spec__ or __package__, falling back on __name__ and __path__\n",
      "  return f(*args, **kwds)\n",
      "C:\\Users\\Edzard\\Anaconda\\lib\\importlib\\_bootstrap.py:205: ImportWarning: can't resolve package from __spec__ or __package__, falling back on __name__ and __path__\n",
      "  return f(*args, **kwds)\n"
     ]
    }
   ],
   "source": [
    "import seaborn as sns\n",
    "import numpy.lib.recfunctions as rf\n",
    "from ema_workbench.analysis import feature_scoring\n",
    "from ema_workbench.analysis.feature_scoring import get_feature_scores_all\n",
    "\n",
    "experiments, outcomes = results"
   ]
  },
  {
   "cell_type": "markdown",
   "metadata": {},
   "source": [
    "### Feature scoring uncertainties to performance metrics"
   ]
  },
  {
   "cell_type": "code",
   "execution_count": 7,
   "metadata": {
    "collapsed": true
   },
   "outputs": [],
   "source": [
    "# Defining the x space for feature scoring\n",
    "x = experiments\n",
    "x = rf.drop_fields(x, ['Electric_boiler_investments', 'Biomass_boiler_investments', \n",
    "                       'Zero_gap_investments', 'Peak_shaving_investments', \n",
    "                       'Energy_tax','Coal_plants_shutdown', 'Investment_year',\n",
    "                       'policy','model'], \n",
    "                   asrecarray=True)"
   ]
  },
  {
   "cell_type": "code",
   "execution_count": 8,
   "metadata": {
    "collapsed": false
   },
   "outputs": [],
   "source": [
    "# Defining the y-space for the feature scoring\n",
    "y_df = pd.DataFrame(outcomes)\n",
    "y_df=y_df[['Direct_emission_change','Indirect_emission_change','Total_emission_change','NPV','IRR', 'Investment_cost']]\n",
    "\n",
    "y_dict = y_df.to_dict('list')\n",
    "for key in y_dict.keys():\n",
    "    y_dict[key] = np.array(y_dict[key])\n",
    "y = y_dict"
   ]
  },
  {
   "cell_type": "code",
   "execution_count": 9,
   "metadata": {
    "collapsed": false
   },
   "outputs": [
    {
     "name": "stderr",
     "output_type": "stream",
     "text": [
      "C:\\Users\\Edzard\\Anaconda\\lib\\site-packages\\pandas\\core\\frame.py:6211: FutureWarning: Sorting because non-concatenation axis is not aligned. A future version\n",
      "of pandas will change to not sort by default.\n",
      "\n",
      "To accept the future behavior, pass 'sort=False'.\n",
      "\n",
      "To retain the current behavior and silence the warning, pass 'sort=True'.\n",
      "\n",
      "  sort=sort)\n",
      "C:\\Users\\Edzard\\Anaconda\\lib\\site-packages\\pandas\\core\\frame.py:6211: FutureWarning: Sorting because non-concatenation axis is not aligned. A future version\n",
      "of pandas will change to not sort by default.\n",
      "\n",
      "To accept the future behavior, pass 'sort=False'.\n",
      "\n",
      "To retain the current behavior and silence the warning, pass 'sort=True'.\n",
      "\n",
      "  sort=sort)\n",
      "C:\\Users\\Edzard\\Anaconda\\lib\\site-packages\\pandas\\core\\frame.py:6211: FutureWarning: Sorting because non-concatenation axis is not aligned. A future version\n",
      "of pandas will change to not sort by default.\n",
      "\n",
      "To accept the future behavior, pass 'sort=False'.\n",
      "\n",
      "To retain the current behavior and silence the warning, pass 'sort=True'.\n",
      "\n",
      "  sort=sort)\n",
      "C:\\Users\\Edzard\\Anaconda\\lib\\site-packages\\pandas\\core\\frame.py:6211: FutureWarning: Sorting because non-concatenation axis is not aligned. A future version\n",
      "of pandas will change to not sort by default.\n",
      "\n",
      "To accept the future behavior, pass 'sort=False'.\n",
      "\n",
      "To retain the current behavior and silence the warning, pass 'sort=True'.\n",
      "\n",
      "  sort=sort)\n",
      "C:\\Users\\Edzard\\Anaconda\\lib\\site-packages\\pandas\\core\\frame.py:6211: FutureWarning: Sorting because non-concatenation axis is not aligned. A future version\n",
      "of pandas will change to not sort by default.\n",
      "\n",
      "To accept the future behavior, pass 'sort=False'.\n",
      "\n",
      "To retain the current behavior and silence the warning, pass 'sort=True'.\n",
      "\n",
      "  sort=sort)\n"
     ]
    },
    {
     "data": {
      "text/html": [
       "<div>\n",
       "<style scoped>\n",
       "    .dataframe tbody tr th:only-of-type {\n",
       "        vertical-align: middle;\n",
       "    }\n",
       "\n",
       "    .dataframe tbody tr th {\n",
       "        vertical-align: top;\n",
       "    }\n",
       "\n",
       "    .dataframe thead th {\n",
       "        text-align: right;\n",
       "    }\n",
       "</style>\n",
       "<table border=\"1\" class=\"dataframe\">\n",
       "  <thead>\n",
       "    <tr style=\"text-align: right;\">\n",
       "      <th></th>\n",
       "      <th>Direct_emission_change</th>\n",
       "      <th>Indirect_emission_change</th>\n",
       "      <th>Total_emission_change</th>\n",
       "      <th>NPV</th>\n",
       "      <th>IRR</th>\n",
       "      <th>Investment_cost</th>\n",
       "    </tr>\n",
       "  </thead>\n",
       "  <tbody>\n",
       "    <tr>\n",
       "      <th>Discount_rate</th>\n",
       "      <td>0.228101</td>\n",
       "      <td>0.023141</td>\n",
       "      <td>0.019882</td>\n",
       "      <td>0.170150</td>\n",
       "      <td>0.313322</td>\n",
       "      <td>0.307717</td>\n",
       "    </tr>\n",
       "    <tr>\n",
       "      <th>Efficiency_gain</th>\n",
       "      <td>0.346937</td>\n",
       "      <td>0.140913</td>\n",
       "      <td>0.159058</td>\n",
       "      <td>0.032244</td>\n",
       "      <td>0.329138</td>\n",
       "      <td>0.313646</td>\n",
       "    </tr>\n",
       "    <tr>\n",
       "      <th>Price_scenario</th>\n",
       "      <td>0.093667</td>\n",
       "      <td>0.015191</td>\n",
       "      <td>0.013323</td>\n",
       "      <td>0.720642</td>\n",
       "      <td>0.058665</td>\n",
       "      <td>0.070679</td>\n",
       "    </tr>\n",
       "    <tr>\n",
       "      <th>Production_uncertainty</th>\n",
       "      <td>0.331295</td>\n",
       "      <td>0.820754</td>\n",
       "      <td>0.807737</td>\n",
       "      <td>0.076964</td>\n",
       "      <td>0.298875</td>\n",
       "      <td>0.307958</td>\n",
       "    </tr>\n",
       "  </tbody>\n",
       "</table>\n",
       "</div>"
      ],
      "text/plain": [
       "                        Direct_emission_change  Indirect_emission_change  \\\n",
       "Discount_rate                         0.228101                  0.023141   \n",
       "Efficiency_gain                       0.346937                  0.140913   \n",
       "Price_scenario                        0.093667                  0.015191   \n",
       "Production_uncertainty                0.331295                  0.820754   \n",
       "\n",
       "                        Total_emission_change       NPV       IRR  \\\n",
       "Discount_rate                        0.019882  0.170150  0.313322   \n",
       "Efficiency_gain                      0.159058  0.032244  0.329138   \n",
       "Price_scenario                       0.013323  0.720642  0.058665   \n",
       "Production_uncertainty               0.807737  0.076964  0.298875   \n",
       "\n",
       "                        Investment_cost  \n",
       "Discount_rate                  0.307717  \n",
       "Efficiency_gain                0.313646  \n",
       "Price_scenario                 0.070679  \n",
       "Production_uncertainty         0.307958  "
      ]
     },
     "execution_count": 9,
     "metadata": {},
     "output_type": "execute_result"
    }
   ],
   "source": [
    "fs_all = get_feature_scores_all(x, y)\n",
    "fs_all"
   ]
  },
  {
   "cell_type": "code",
   "execution_count": 10,
   "metadata": {
    "collapsed": false
   },
   "outputs": [
    {
     "data": {
      "image/png": "[encoded data removed]",
      "text/plain": [
       "<matplotlib.figure.Figure at 0xe83daf0>"
      ]
     },
     "metadata": {},
     "output_type": "display_data"
    }
   ],
   "source": [
    "sns.heatmap(fs_all, annot=True, cmap='Blues', linewidths=0.5)\n",
    "plt.show()"
   ]
  },
  {
   "cell_type": "markdown",
   "metadata": {},
   "source": [
    "### Feature scoring for policy levers"
   ]
  },
  {
   "cell_type": "code",
   "execution_count": 11,
   "metadata": {
    "collapsed": false
   },
   "outputs": [
    {
     "name": "stderr",
     "output_type": "stream",
     "text": [
      "C:\\Users\\Edzard\\Anaconda\\lib\\site-packages\\pandas\\core\\frame.py:6211: FutureWarning: Sorting because non-concatenation axis is not aligned. A future version\n",
      "of pandas will change to not sort by default.\n",
      "\n",
      "To accept the future behavior, pass 'sort=False'.\n",
      "\n",
      "To retain the current behavior and silence the warning, pass 'sort=True'.\n",
      "\n",
      "  sort=sort)\n",
      "C:\\Users\\Edzard\\Anaconda\\lib\\site-packages\\pandas\\core\\frame.py:6211: FutureWarning: Sorting because non-concatenation axis is not aligned. A future version\n",
      "of pandas will change to not sort by default.\n",
      "\n",
      "To accept the future behavior, pass 'sort=False'.\n",
      "\n",
      "To retain the current behavior and silence the warning, pass 'sort=True'.\n",
      "\n",
      "  sort=sort)\n",
      "C:\\Users\\Edzard\\Anaconda\\lib\\site-packages\\pandas\\core\\frame.py:6211: FutureWarning: Sorting because non-concatenation axis is not aligned. A future version\n",
      "of pandas will change to not sort by default.\n",
      "\n",
      "To accept the future behavior, pass 'sort=False'.\n",
      "\n",
      "To retain the current behavior and silence the warning, pass 'sort=True'.\n",
      "\n",
      "  sort=sort)\n",
      "C:\\Users\\Edzard\\Anaconda\\lib\\site-packages\\pandas\\core\\frame.py:6211: FutureWarning: Sorting because non-concatenation axis is not aligned. A future version\n",
      "of pandas will change to not sort by default.\n",
      "\n",
      "To accept the future behavior, pass 'sort=False'.\n",
      "\n",
      "To retain the current behavior and silence the warning, pass 'sort=True'.\n",
      "\n",
      "  sort=sort)\n",
      "C:\\Users\\Edzard\\Anaconda\\lib\\site-packages\\pandas\\core\\frame.py:6211: FutureWarning: Sorting because non-concatenation axis is not aligned. A future version\n",
      "of pandas will change to not sort by default.\n",
      "\n",
      "To accept the future behavior, pass 'sort=False'.\n",
      "\n",
      "To retain the current behavior and silence the warning, pass 'sort=True'.\n",
      "\n",
      "  sort=sort)\n"
     ]
    }
   ],
   "source": [
    "# Defining the x space for feature scoring\n",
    "x = experiments\n",
    "x = rf.drop_fields(x, ['Discount_rate','Efficiency_gain','Price_scenario','Production_uncertainty',\n",
    "                       'policy', 'model'], \n",
    "                   asrecarray=True)\n",
    "fs_all = get_feature_scores_all(x, y)"
   ]
  },
  {
   "cell_type": "code",
   "execution_count": 12,
   "metadata": {
    "collapsed": false
   },
   "outputs": [
    {
     "data": {
      "image/png": "[encoded data removed]",
      "text/plain": [
       "<matplotlib.figure.Figure at 0x14aff90>"
      ]
     },
     "metadata": {},
     "output_type": "display_data"
    }
   ],
   "source": [
    "sns.heatmap(fs_all, annot=True, cmap='Blues', linewidths=0.5)\n",
    "plt.show()"
   ]
  },
  {
   "cell_type": "markdown",
   "metadata": {},
   "source": [
    "## Filtering output space to explore desired outcomes"
   ]
  },
  {
   "cell_type": "code",
   "execution_count": 13,
   "metadata": {
    "collapsed": false
   },
   "outputs": [],
   "source": [
    "import copy\n",
    "data = copy.copy(outcomes)\n",
    "data = pd.DataFrame(data)"
   ]
  },
  {
   "cell_type": "code",
   "execution_count": 14,
   "metadata": {
    "collapsed": false
   },
   "outputs": [],
   "source": [
    "# Filtering scenarios\n",
    "data['NPV_pos']=data.NPV>0 \n",
    "data['Direct_emissions_ETS'] = data.Direct_emissions_2030<167\n",
    "data['Total_emission_change_neg'] = data.Total_emission_change<0\n",
    "results_df['Filter']= data['NPV_pos']&data['Direct_emissions_ETS']&data['Total_emission_change_neg']"
   ]
  },
  {
   "cell_type": "code",
   "execution_count": 15,
   "metadata": {
    "collapsed": false
   },
   "outputs": [],
   "source": [
    "filtered_results=results_df.loc[results_df['Filter']]"
   ]
  },
  {
   "cell_type": "code",
   "execution_count": 16,
   "metadata": {
    "collapsed": false
   },
   "outputs": [
    {
     "name": "stdout",
     "output_type": "stream",
     "text": [
      "34640 108000 0.3207407407407407\n"
     ]
    }
   ],
   "source": [
    "print(len(filtered_results), len(results_df), len(filtered_results)/len(results_df))"
   ]
  },
  {
   "cell_type": "code",
   "execution_count": 17,
   "metadata": {
    "collapsed": false
   },
   "outputs": [
    {
     "data": {
      "text/html": [
       "<div>\n",
       "<style scoped>\n",
       "    .dataframe tbody tr th:only-of-type {\n",
       "        vertical-align: middle;\n",
       "    }\n",
       "\n",
       "    .dataframe tbody tr th {\n",
       "        vertical-align: top;\n",
       "    }\n",
       "\n",
       "    .dataframe thead th {\n",
       "        text-align: right;\n",
       "    }\n",
       "</style>\n",
       "<table border=\"1\" class=\"dataframe\">\n",
       "  <thead>\n",
       "    <tr style=\"text-align: right;\">\n",
       "      <th></th>\n",
       "      <th>Discount_rate</th>\n",
       "      <th>Efficiency_gain</th>\n",
       "      <th>Investment_year</th>\n",
       "      <th>Price_scenario</th>\n",
       "      <th>Production_uncertainty</th>\n",
       "      <th>Biomass_boiler_investments</th>\n",
       "      <th>Coal_plants_shutdown</th>\n",
       "      <th>Electric_boiler_investments</th>\n",
       "      <th>Energy_tax</th>\n",
       "      <th>Peak_shaving_investments</th>\n",
       "      <th>...</th>\n",
       "      <th>Direct_emission_change</th>\n",
       "      <th>Indirect_emissions_2030</th>\n",
       "      <th>Indirect_emission_change</th>\n",
       "      <th>Total_emissions_2030</th>\n",
       "      <th>Total_emission_change</th>\n",
       "      <th>IRR</th>\n",
       "      <th>NPV</th>\n",
       "      <th>Investment_cost</th>\n",
       "      <th>Yearly_production</th>\n",
       "      <th>Filter</th>\n",
       "    </tr>\n",
       "  </thead>\n",
       "  <tbody>\n",
       "    <tr>\n",
       "      <th>107990</th>\n",
       "      <td>0.037272</td>\n",
       "      <td>0.004503</td>\n",
       "      <td>2025</td>\n",
       "      <td>2</td>\n",
       "      <td>1.032351</td>\n",
       "      <td>0</td>\n",
       "      <td>0</td>\n",
       "      <td>1</td>\n",
       "      <td>2</td>\n",
       "      <td>0</td>\n",
       "      <td>...</td>\n",
       "      <td>-51.036497</td>\n",
       "      <td>996.601663</td>\n",
       "      <td>2.853910</td>\n",
       "      <td>1137.966364</td>\n",
       "      <td>-48.182587</td>\n",
       "      <td>0.035833</td>\n",
       "      <td>1.988785e+07</td>\n",
       "      <td>9.033010e+07</td>\n",
       "      <td>874.401210</td>\n",
       "      <td>True</td>\n",
       "    </tr>\n",
       "    <tr>\n",
       "      <th>107991</th>\n",
       "      <td>0.012532</td>\n",
       "      <td>0.003792</td>\n",
       "      <td>2022</td>\n",
       "      <td>2</td>\n",
       "      <td>1.006722</td>\n",
       "      <td>0</td>\n",
       "      <td>0</td>\n",
       "      <td>1</td>\n",
       "      <td>2</td>\n",
       "      <td>0</td>\n",
       "      <td>...</td>\n",
       "      <td>-50.786680</td>\n",
       "      <td>966.166559</td>\n",
       "      <td>-2.910249</td>\n",
       "      <td>1103.004494</td>\n",
       "      <td>-53.696929</td>\n",
       "      <td>0.032775</td>\n",
       "      <td>1.887961e+07</td>\n",
       "      <td>9.033010e+07</td>\n",
       "      <td>852.693183</td>\n",
       "      <td>True</td>\n",
       "    </tr>\n",
       "    <tr>\n",
       "      <th>107992</th>\n",
       "      <td>0.051839</td>\n",
       "      <td>0.005513</td>\n",
       "      <td>2023</td>\n",
       "      <td>2</td>\n",
       "      <td>1.020312</td>\n",
       "      <td>0</td>\n",
       "      <td>0</td>\n",
       "      <td>1</td>\n",
       "      <td>2</td>\n",
       "      <td>0</td>\n",
       "      <td>...</td>\n",
       "      <td>-51.800904</td>\n",
       "      <td>977.338374</td>\n",
       "      <td>-4.820710</td>\n",
       "      <td>1115.694966</td>\n",
       "      <td>-56.621614</td>\n",
       "      <td>0.006550</td>\n",
       "      <td>3.433789e+06</td>\n",
       "      <td>9.033010e+07</td>\n",
       "      <td>864.204310</td>\n",
       "      <td>True</td>\n",
       "    </tr>\n",
       "    <tr>\n",
       "      <th>107996</th>\n",
       "      <td>0.050250</td>\n",
       "      <td>0.001695</td>\n",
       "      <td>2023</td>\n",
       "      <td>2</td>\n",
       "      <td>0.994947</td>\n",
       "      <td>0</td>\n",
       "      <td>0</td>\n",
       "      <td>1</td>\n",
       "      <td>2</td>\n",
       "      <td>0</td>\n",
       "      <td>...</td>\n",
       "      <td>-50.316263</td>\n",
       "      <td>954.148377</td>\n",
       "      <td>-3.594342</td>\n",
       "      <td>1089.262317</td>\n",
       "      <td>-53.910605</td>\n",
       "      <td>0.003719</td>\n",
       "      <td>1.943938e+06</td>\n",
       "      <td>9.033010e+07</td>\n",
       "      <td>842.720289</td>\n",
       "      <td>True</td>\n",
       "    </tr>\n",
       "    <tr>\n",
       "      <th>107997</th>\n",
       "      <td>0.009787</td>\n",
       "      <td>0.006867</td>\n",
       "      <td>2023</td>\n",
       "      <td>2</td>\n",
       "      <td>1.002502</td>\n",
       "      <td>0</td>\n",
       "      <td>0</td>\n",
       "      <td>1</td>\n",
       "      <td>2</td>\n",
       "      <td>0</td>\n",
       "      <td>...</td>\n",
       "      <td>-54.521424</td>\n",
       "      <td>939.905781</td>\n",
       "      <td>-25.109031</td>\n",
       "      <td>1072.222522</td>\n",
       "      <td>-79.630454</td>\n",
       "      <td>0.035858</td>\n",
       "      <td>2.076955e+07</td>\n",
       "      <td>9.033010e+07</td>\n",
       "      <td>849.119021</td>\n",
       "      <td>True</td>\n",
       "    </tr>\n",
       "  </tbody>\n",
       "</table>\n",
       "<p>5 rows × 25 columns</p>\n",
       "</div>"
      ],
      "text/plain": [
       "        Discount_rate  Efficiency_gain  Investment_year  Price_scenario  \\\n",
       "107990       0.037272         0.004503             2025               2   \n",
       "107991       0.012532         0.003792             2022               2   \n",
       "107992       0.051839         0.005513             2023               2   \n",
       "107996       0.050250         0.001695             2023               2   \n",
       "107997       0.009787         0.006867             2023               2   \n",
       "\n",
       "        Production_uncertainty  Biomass_boiler_investments  \\\n",
       "107990                1.032351                           0   \n",
       "107991                1.006722                           0   \n",
       "107992                1.020312                           0   \n",
       "107996                0.994947                           0   \n",
       "107997                1.002502                           0   \n",
       "\n",
       "        Coal_plants_shutdown  Electric_boiler_investments  Energy_tax  \\\n",
       "107990                     0                            1           2   \n",
       "107991                     0                            1           2   \n",
       "107992                     0                            1           2   \n",
       "107996                     0                            1           2   \n",
       "107997                     0                            1           2   \n",
       "\n",
       "        Peak_shaving_investments   ...    Direct_emission_change  \\\n",
       "107990                         0   ...                -51.036497   \n",
       "107991                         0   ...                -50.786680   \n",
       "107992                         0   ...                -51.800904   \n",
       "107996                         0   ...                -50.316263   \n",
       "107997                         0   ...                -54.521424   \n",
       "\n",
       "       Indirect_emissions_2030 Indirect_emission_change Total_emissions_2030  \\\n",
       "107990              996.601663                 2.853910          1137.966364   \n",
       "107991              966.166559                -2.910249          1103.004494   \n",
       "107992              977.338374                -4.820710          1115.694966   \n",
       "107996              954.148377                -3.594342          1089.262317   \n",
       "107997              939.905781               -25.109031          1072.222522   \n",
       "\n",
       "        Total_emission_change       IRR           NPV  Investment_cost  \\\n",
       "107990             -48.182587  0.035833  1.988785e+07     9.033010e+07   \n",
       "107991             -53.696929  0.032775  1.887961e+07     9.033010e+07   \n",
       "107992             -56.621614  0.006550  3.433789e+06     9.033010e+07   \n",
       "107996             -53.910605  0.003719  1.943938e+06     9.033010e+07   \n",
       "107997             -79.630454  0.035858  2.076955e+07     9.033010e+07   \n",
       "\n",
       "        Yearly_production  Filter  \n",
       "107990         874.401210    True  \n",
       "107991         852.693183    True  \n",
       "107992         864.204310    True  \n",
       "107996         842.720289    True  \n",
       "107997         849.119021    True  \n",
       "\n",
       "[5 rows x 25 columns]"
      ]
     },
     "execution_count": 17,
     "metadata": {},
     "output_type": "execute_result"
    }
   ],
   "source": [
    "filtered_results.tail()"
   ]
  },
  {
   "cell_type": "code",
   "execution_count": 18,
   "metadata": {
    "collapsed": false
   },
   "outputs": [
    {
     "name": "stderr",
     "output_type": "stream",
     "text": [
      "C:\\Users\\Edzard\\Anaconda\\lib\\site-packages\\pandas\\core\\frame.py:6211: FutureWarning: Sorting because non-concatenation axis is not aligned. A future version\n",
      "of pandas will change to not sort by default.\n",
      "\n",
      "To accept the future behavior, pass 'sort=False'.\n",
      "\n",
      "To retain the current behavior and silence the warning, pass 'sort=True'.\n",
      "\n",
      "  sort=sort)\n",
      "C:\\Users\\Edzard\\Anaconda\\lib\\site-packages\\pandas\\core\\frame.py:6211: FutureWarning: Sorting because non-concatenation axis is not aligned. A future version\n",
      "of pandas will change to not sort by default.\n",
      "\n",
      "To accept the future behavior, pass 'sort=False'.\n",
      "\n",
      "To retain the current behavior and silence the warning, pass 'sort=True'.\n",
      "\n",
      "  sort=sort)\n",
      "C:\\Users\\Edzard\\Anaconda\\lib\\site-packages\\pandas\\core\\frame.py:6211: FutureWarning: Sorting because non-concatenation axis is not aligned. A future version\n",
      "of pandas will change to not sort by default.\n",
      "\n",
      "To accept the future behavior, pass 'sort=False'.\n",
      "\n",
      "To retain the current behavior and silence the warning, pass 'sort=True'.\n",
      "\n",
      "  sort=sort)\n",
      "C:\\Users\\Edzard\\Anaconda\\lib\\site-packages\\pandas\\core\\frame.py:6211: FutureWarning: Sorting because non-concatenation axis is not aligned. A future version\n",
      "of pandas will change to not sort by default.\n",
      "\n",
      "To accept the future behavior, pass 'sort=False'.\n",
      "\n",
      "To retain the current behavior and silence the warning, pass 'sort=True'.\n",
      "\n",
      "  sort=sort)\n"
     ]
    },
    {
     "data": {
      "image/png": "[encoded data removed]",
      "text/plain": [
       "<matplotlib.figure.Figure at 0x14af1d0>"
      ]
     },
     "metadata": {},
     "output_type": "display_data"
    }
   ],
   "source": [
    "# Selecting relevant frames from filters \n",
    "\n",
    "# Policies\n",
    "x_df = filtered_results[['Electric_boiler_investments', 'Biomass_boiler_investments', \n",
    "                         'Zero_gap_investments', 'Peak_shaving_investments', \n",
    "                         'Energy_tax','Coal_plants_shutdown' ]]\n",
    "x = x_df.to_records(index=False)\n",
    "\n",
    "\n",
    "# Outcomes\n",
    "y_df = filtered_results[['Direct_emission_change','Indirect_emission_change','Total_emission_change','NPV','IRR']]\n",
    "y_dict = y_df.to_dict('list')\n",
    "for key in y_dict.keys():\n",
    "    y_dict[key] = np.array(y_dict[key])\n",
    "\n",
    "y = y_dict\n",
    "\n",
    "fs_all = get_feature_scores_all(x, y)\n",
    "sns.heatmap(fs_all, annot=True, cmap='YlGnBu', linewidths=0.5)\n",
    "plt.show()"
   ]
  },
  {
   "cell_type": "markdown",
   "metadata": {},
   "source": [
    "## Dimensional stack of filtered space "
   ]
  },
  {
   "cell_type": "markdown",
   "metadata": {},
   "source": [
    "#### Dimensional stack of uncertainty space"
   ]
  },
  {
   "cell_type": "code",
   "execution_count": 19,
   "metadata": {
    "collapsed": false
   },
   "outputs": [
    {
     "data": {
      "image/png": "[encoded data removed]",
      "text/plain": [
       "<matplotlib.figure.Figure at 0x12cf110>"
      ]
     },
     "metadata": {},
     "output_type": "display_data"
    }
   ],
   "source": [
    "from ema_workbench.analysis import dimensional_stacking\n",
    "\n",
    "# Selecting successful policies\n",
    "x_df = results_df[['Discount_rate','Efficiency_gain', \n",
    "                         'Price_scenario','Production_uncertainty' ]]\n",
    "x = x_df.to_records(index=False)\n",
    "\n",
    "# Filtering output space\n",
    "y = np.array(results_df['Filter'])\n",
    "\n",
    "dimensional_stacking.create_pivot_plot(x,y, 3, nbins=3)\n",
    "plt.show()"
   ]
  },
  {
   "cell_type": "markdown",
   "metadata": {},
   "source": [
    "#### Dimensional stack of policy space"
   ]
  },
  {
   "cell_type": "code",
   "execution_count": 20,
   "metadata": {
    "collapsed": false
   },
   "outputs": [
    {
     "data": {
      "image/png": "[encoded data removed]",
      "text/plain": [
       "<matplotlib.figure.Figure at 0x9139810>"
      ]
     },
     "metadata": {},
     "output_type": "display_data"
    }
   ],
   "source": [
    "from ema_workbench.analysis import dimensional_stacking\n",
    "\n",
    "# Selecting successful policies\n",
    "x_df = results_df[['Electric_boiler_investments','Coal_plants_shutdown', \n",
    "                         'Energy_tax','Zero_gap_investments' ]]\n",
    "x = x_df.to_records(index=False)\n",
    "\n",
    "# Filtering output space\n",
    "y = np.array(results_df['Filter'])\n",
    "\n",
    "dimensional_stacking.create_pivot_plot(x,y, 5, nbins=4)\n",
    "plt.show()"
   ]
  },
  {
   "cell_type": "markdown",
   "metadata": {},
   "source": [
    "## Visualizing filtered output space"
   ]
  },
  {
   "cell_type": "markdown",
   "metadata": {},
   "source": [
    "#### Filtered output space as a subset"
   ]
  },
  {
   "cell_type": "code",
   "execution_count": 21,
   "metadata": {
    "collapsed": false
   },
   "outputs": [
    {
     "data": {
      "text/html": [
       "<iframe id=\"igraph\" scrolling=\"no\" style=\"border:none;\" seamless=\"seamless\" src=\"https://plot.ly/~europemigration/18.embed\" height=\"525px\" width=\"100%\"></iframe>"
      ],
      "text/plain": [
       "<plotly.tools.PlotlyDisplay object>"
      ]
     },
     "execution_count": 21,
     "metadata": {},
     "output_type": "execute_result"
    }
   ],
   "source": [
    "import plotly.plotly as py\n",
    "import plotly.graph_objs as go\n",
    "\n",
    "parallel_plot_data = [\n",
    "    go.Parcoords(\n",
    "        line = dict(color = 'rgb(0, 176, 240)'\n",
    "                   ),\n",
    "        \n",
    "        dimensions = list([\n",
    "            dict(range = [0,250],\n",
    "                 constraintrange = [0,167],\n",
    "                 label = 'Direct emissions 2030 (kton CO2)', \n",
    "                 values = list(results_df['Direct_emissions_2030'])),\n",
    "            dict(range = [-400,400],\n",
    "                 label = 'Indirect emission change (kton CO2)', \n",
    "                 values = list(results_df['Indirect_emission_change'])),\n",
    "            dict(range = [-250,250],\n",
    "                 constraintrange = [-250,-105.13],\n",
    "                 label = 'Total emissions change (kton CO2)', \n",
    "                 values = list(results_df['Total_emission_change'])),\n",
    "            dict(range = [-1,3],\n",
    "                 constraintrange = [0,3],\n",
    "                 label = 'Internal rate of return (%)', \n",
    "                 values = list(results_df['IRR'])),\n",
    "            dict(range = [0,1.1*10**8],\n",
    "                 constraintrange = [10**6,1.1*(10**8)],\n",
    "                 label = 'Investment cost (€)', \n",
    "                 values = list(results_df['Investment_cost'])),\n",
    "        ])\n",
    "    )\n",
    "]\n",
    "\n",
    "py.iplot(parallel_plot_data, filename = 'parcoord-dimensions')"
   ]
  },
  {
   "cell_type": "markdown",
   "metadata": {},
   "source": [
    "#### Filtered output space in combination with no policy scenarios"
   ]
  },
  {
   "cell_type": "code",
   "execution_count": 22,
   "metadata": {
    "collapsed": false
   },
   "outputs": [],
   "source": [
    "# Filtering no policy output space\n",
    "results_df['no policy']=results_df['policy']==\"{'Biomass_boiler_investments': 0, 'Coal_plants_shutdown': 0, 'Electric_boiler_investments': 0, 'Energy_tax': 0, 'Peak_shaving_investments': 0, 'Zero_gap_investments': 0}\""
   ]
  },
  {
   "cell_type": "code",
   "execution_count": 23,
   "metadata": {
    "collapsed": true
   },
   "outputs": [],
   "source": [
    "# function for assigning colors to output space subsets\n",
    "def f(row):\n",
    "    if row['no policy']:\n",
    "        val=1                # Black 'rgb(0, 0, 0)'\n",
    "    elif row['Filter']:\n",
    "        val=2                # Blue 'rgb(0, 176, 240)'\n",
    "    else:\n",
    "        val=0                # Grey 'rgb(109, 109, 109)'\n",
    "    return val\n"
   ]
  },
  {
   "cell_type": "code",
   "execution_count": 24,
   "metadata": {
    "collapsed": false
   },
   "outputs": [],
   "source": [
    "# Sorting for plotly\n",
    "results_df=results_df.sort_values(['no policy','Filter'], ascending=[False,False])"
   ]
  },
  {
   "cell_type": "code",
   "execution_count": 25,
   "metadata": {
    "collapsed": false
   },
   "outputs": [],
   "source": [
    "results_df['color'] = results_df.apply(f, axis=1)"
   ]
  },
  {
   "cell_type": "code",
   "execution_count": 26,
   "metadata": {
    "collapsed": false
   },
   "outputs": [
    {
     "data": {
      "text/html": [
       "<iframe id=\"igraph\" scrolling=\"no\" style=\"border:none;\" seamless=\"seamless\" src=\"https://plot.ly/~europemigration/18.embed\" height=\"525px\" width=\"100%\"></iframe>"
      ],
      "text/plain": [
       "<plotly.tools.PlotlyDisplay object>"
      ]
     },
     "execution_count": 26,
     "metadata": {},
     "output_type": "execute_result"
    }
   ],
   "source": [
    "import plotly.plotly as py\n",
    "import plotly.graph_objs as go\n",
    "\n",
    "parallel_plot_data = [\n",
    "    go.Parcoords(\n",
    "        line = dict(color = results_df['color'],\n",
    "                    colorscale=[[0, 'rgb(109, 109, 109)'], [1, 'rgb(0, 0, 0)'],[2, 'rgb(0, 176, 240)']]\n",
    "                   ),\n",
    "        \n",
    "        dimensions = list([\n",
    "            dict(range = [0,250],\n",
    "                 #constraintrange = [0,167],\n",
    "                 label = 'Direct emissions 2030 (kton CO2)', \n",
    "                 values = list(results_df['Direct_emissions_2030'])),\n",
    "            dict(range = [-400,400],\n",
    "                 label = 'Indirect emission change (kton CO2)', \n",
    "                 values = list(results_df['Indirect_emission_change'])),\n",
    "            dict(range = [-250,250],\n",
    "                 #constraintrange = [-250,-105.13],\n",
    "                 label = 'Total emissions change (kton CO2)', \n",
    "                 values = list(results_df['Total_emission_change'])),\n",
    "            dict(range = [-1,3],\n",
    "                 #constraintrange = [0,3],\n",
    "                 label = 'Internal rate of return (%)', \n",
    "                 values = list(results_df['IRR'])),\n",
    "            dict(range = [0,1.1*10**8],\n",
    "                 #constraintrange = [10**6,1.1*(10**8)],\n",
    "                 label = 'Investment cost (€)', \n",
    "                 values = list(results_df['Investment_cost'])),\n",
    "        ])\n",
    "    )\n",
    "]\n",
    "\n",
    "py.iplot(parallel_plot_data, filename = 'parcoord-dimensions')"
   ]
  },
  {
   "cell_type": "code",
   "execution_count": null,
   "metadata": {
    "collapsed": true
   },
   "outputs": [],
   "source": []
  },
  {
   "cell_type": "code",
   "execution_count": null,
   "metadata": {
    "collapsed": true
   },
   "outputs": [],
   "source": []
  }
 ],
 "metadata": {
  "kernelspec": {
   "display_name": "Python 3",
   "language": "python",
   "name": "python3"
  },
  "language_info": {
   "codemirror_mode": {
    "name": "ipython",
    "version": 3
   },
   "file_extension": ".py",
   "mimetype": "text/x-python",
   "name": "python",
   "nbconvert_exporter": "python",
   "pygments_lexer": "ipython3",
   "version": "3.6.0"
  }
 },
 "nbformat": 4,
 "nbformat_minor": 2
}
