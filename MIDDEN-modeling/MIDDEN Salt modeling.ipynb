{
 "cells": [
  {
   "cell_type": "markdown",
   "metadata": {},
   "source": [
    "## Model initialization"
   ]
  },
  {
   "cell_type": "code",
   "execution_count": 1,
   "metadata": {
    "collapsed": false
   },
   "outputs": [
    {
     "name": "stderr",
     "output_type": "stream",
     "text": [
      "C:\\Users\\Edzard\\Anaconda\\lib\\site-packages\\ema_workbench\\em_framework\\optimization.py:29: ImportWarning: platypus based optimization not available\n",
      "  warnings.warn(\"platypus based optimization not available\", ImportWarning)\n",
      "C:\\Users\\Edzard\\Anaconda\\lib\\site-packages\\ema_workbench\\connectors\\__init__.py:18: ImportWarning: netlogo connector not available\n",
      "  warnings.warn(\"netlogo connector not available\", ImportWarning)\n",
      "C:\\Users\\Edzard\\Anaconda\\lib\\importlib\\_bootstrap.py:205: ImportWarning: can't resolve package from __spec__ or __package__, falling back on __name__ and __path__\n",
      "  return f(*args, **kwds)\n",
      "C:\\Users\\Edzard\\Anaconda\\lib\\importlib\\_bootstrap.py:205: ImportWarning: can't resolve package from __spec__ or __package__, falling back on __name__ and __path__\n",
      "  return f(*args, **kwds)\n"
     ]
    }
   ],
   "source": [
    "from __future__ import (division, print_function, absolute_import, unicode_literals)\n",
    "from ema_workbench import (RealParameter, TimeSeriesOutcome, ema_logging, perform_experiments)\n",
    "from ema_workbench.connectors.excel import ExcelModel\n",
    "from ema_workbench.em_framework.evaluators import MultiprocessingEvaluator\n",
    "from ema_workbench.em_framework import (salib_samplers, IpyparallelEvaluator, samplers, util) \n",
    "from ema_workbench.analysis import prim\n",
    "from ema_workbench import ema_logging\n",
    "ema_logging.log_to_stderr(ema_logging.INFO)\n",
    "\n",
    "import numpy.lib.recfunctions as rf\n",
    "import numpy as np\n",
    "import matplotlib.pyplot as plt\n",
    "import mpld3\n",
    "import pandas as pd"
   ]
  },
  {
   "cell_type": "code",
   "execution_count": 75,
   "metadata": {
    "collapsed": false
   },
   "outputs": [],
   "source": [
    "ema_logging.log_to_stderr(level=ema_logging.INFO)\n",
    "\n",
    "model = ExcelModel(\"excelmodel\", wd=\"./Models\", model_file='MIDDEN Decarbonization options salt.xlsx')\n",
    "\n",
    "#name of the sheet\n",
    "model.sheet = \"Experiment\"\n",
    "\n",
    "# Specification of the uncertainties\n",
    "model.uncertainties = [RealParameter(\"Price_scenario\", 1, 4),                # Integer value 1, 2, 3\n",
    "                       RealParameter(\"Discount_rate\", 0.01, 0.05),           # May fluctuate between 2% and 5%\n",
    "                       RealParameter(\"Production_uncertainty\", 0.90, 1.10),  # May fluctuate between between 85% and 115% \n",
    "                       RealParameter(\"Efficiency_gain\", 0.003, 0.007)]       # Yearly efficiency gain approx 0.5% (DNGVL)\n",
    "\n",
    "# Specification of the policies\n",
    "model.levers = [#RealParameter(\"Plant_number\", 1, 5),               # 1=Hengelo; 2=Delfzijl; 3=Harlingen; 4=Veendam\n",
    "                #RealParameter(\"Steam_tech_explored\",0,4),          # 0=None; 1=CHP; 2=Electric boiler; 3=Steam from 3rd parties\n",
    "                #RealParameter(\"Vapor_tech_explored\",0,4),          # 0=None; 1=MEV(4); 2=MEV(5); 3=MVR; 4=Brine use in industry\n",
    "                RealParameter(\"Steam_tech_amount\", 0, 11),          # Integer value range 0 – 10\n",
    "                RealParameter(\"Vapor_tech_amount\", 0, 6),           # Integer value range 0 – 5\n",
    "                RealParameter(\"Investment_year\", 2020, 2031),       # Integer value range 2020 – 2025\n",
    "                RealParameter(\"Gas_tax\",0,0.2),                     # Varies between 0% and 20%\n",
    "                RealParameter(\"Green_electricity_subsidy\", 0, 0.2)] # Varies between 0% and 20%\n",
    "\n",
    "# Specification of the outcomes\n",
    "model.outcomes = [TimeSeriesOutcome(\"NPV\"),\n",
    "                  TimeSeriesOutcome(\"Energy_usage_change\"),\n",
    "                  TimeSeriesOutcome(\"Direct_emissions_change\"),\n",
    "                  TimeSeriesOutcome(\"Indirect_emissions_change\"),\n",
    "                  TimeSeriesOutcome(\"Emissions_change\"),\n",
    "                  TimeSeriesOutcome(\"P_direct_emission_change\"),\n",
    "                  TimeSeriesOutcome(\"P_indirect_emission_change\")]"
   ]
  },
  {
   "cell_type": "markdown",
   "metadata": {},
   "source": [
    " ### Running experiment with policies\n"
   ]
  },
  {
   "cell_type": "code",
   "execution_count": 3,
   "metadata": {
    "collapsed": false
   },
   "outputs": [
    {
     "name": "stderr",
     "output_type": "stream",
     "text": [
      "[MainProcess/INFO] pool started\n",
      "[MainProcess/INFO] performing 50 scenarios * 50 policies * 1 model(s) = 2500 experiments\n",
      "[MainProcess/INFO] 250 cases completed\n",
      "[MainProcess/INFO] 500 cases completed\n",
      "[MainProcess/INFO] 750 cases completed\n",
      "[MainProcess/INFO] 1000 cases completed\n",
      "[MainProcess/INFO] 1250 cases completed\n",
      "[MainProcess/INFO] 1500 cases completed\n",
      "[MainProcess/INFO] 1750 cases completed\n",
      "[MainProcess/INFO] 2000 cases completed\n",
      "[MainProcess/INFO] 2250 cases completed\n",
      "[MainProcess/INFO] 2500 cases completed\n",
      "[MainProcess/INFO] experiments finished\n",
      "[MainProcess/INFO] terminating pool\n",
      "[SpawnPoolWorker-1/INFO] finalizing\n",
      "[SpawnPoolWorker-2/INFO] finalizing\n"
     ]
    }
   ],
   "source": [
    "#Running with policies\n",
    "n_scenarios = 50\n",
    "n_policies = 50\n",
    "\n",
    "counter = util.Counter()\n",
    "policies = samplers.sample_levers(model, n_policies)\n",
    "\n",
    "#Running in series\n",
    "#results = perform_experiments(model, n_scenarios)\n",
    "#experiments, outcomes = results\n",
    "\n",
    "#Running in parallel\n",
    "with MultiprocessingEvaluator(model) as evaluator:\n",
    "    results = evaluator.perform_experiments(n_scenarios, policies)\n",
    "experiments, outcomes = results"
   ]
  },
  {
   "cell_type": "code",
   "execution_count": 4,
   "metadata": {
    "collapsed": false
   },
   "outputs": [
    {
     "name": "stdout",
     "output_type": "stream",
     "text": [
      "NPV                   82143604.7368     66625766.958\n",
      "Energy_usage_change   229190.844887     189368.321944\n",
      "Direct_emissions_change  -164.717756702     86.8051662248\n",
      "Indirect_emissions_change  192.129743681     103.368597856\n",
      "Emissions_change      27.4119869784     22.6947230578\n",
      "P_direct_emission_change  -214682627.91     644047881.697\n",
      "P_indirect_emission_change  7.84022906527     5.06719664073\n"
     ]
    }
   ],
   "source": [
    "# Inspection of outcomes of interest\n",
    "oois = outcomes.keys()\n",
    "for ooi in oois:\n",
    "    value = outcomes[ooi]\n",
    "    value = np.sum(value, axis=1)\n",
    "    i=len(ooi)\n",
    "    print(ooi, (20-i)*\" \", np.mean(value), 3*\" \", np.std(value))"
   ]
  },
  {
   "cell_type": "code",
   "execution_count": 13,
   "metadata": {
    "collapsed": false
   },
   "outputs": [],
   "source": [
    "# Creating experiment DataFrame\n",
    "experiment_data=pd.DataFrame(experiments)\n",
    "outcome_data = pd.DataFrame()\n",
    "for ooi in oois:\n",
    "    outcome_data[ooi]=outcomes[ooi][:,0,0]\n",
    "\n",
    "# Chaning scenario and policy values to integers to account for how model interprets them\n",
    "experiment_data[['Price_scenario','Steam_tech_amount','Vapor_tech_amount','Investment_year']]=experiment_data[['Price_scenario','Steam_tech_amount','Vapor_tech_amount','Investment_year']].astype(int).astype(float)"
   ]
  },
  {
   "cell_type": "code",
   "execution_count": 14,
   "metadata": {
    "collapsed": false,
    "scrolled": true
   },
   "outputs": [
    {
     "data": {
      "text/html": [
       "<div>\n",
       "<table border=\"1\" class=\"dataframe\">\n",
       "  <thead>\n",
       "    <tr style=\"text-align: right;\">\n",
       "      <th></th>\n",
       "      <th>Discount_rate</th>\n",
       "      <th>Efficiency_gain</th>\n",
       "      <th>Price_scenario</th>\n",
       "      <th>Production_uncertainty</th>\n",
       "      <th>Gas_tax</th>\n",
       "      <th>Green_electricity_subsidy</th>\n",
       "      <th>Investment_year</th>\n",
       "      <th>Steam_tech_amount</th>\n",
       "      <th>Vapor_tech_amount</th>\n",
       "      <th>scenario_id</th>\n",
       "      <th>policy</th>\n",
       "      <th>model</th>\n",
       "      <th>NPV</th>\n",
       "      <th>Energy_usage_change</th>\n",
       "      <th>Direct_emissions_change</th>\n",
       "      <th>Indirect_emissions_change</th>\n",
       "      <th>Emissions_change</th>\n",
       "      <th>P_direct_emission_change</th>\n",
       "      <th>P_indirect_emission_change</th>\n",
       "    </tr>\n",
       "  </thead>\n",
       "  <tbody>\n",
       "    <tr>\n",
       "      <th>0</th>\n",
       "      <td>0.034036</td>\n",
       "      <td>0.006274</td>\n",
       "      <td>3.0</td>\n",
       "      <td>0.957272</td>\n",
       "      <td>0.127716</td>\n",
       "      <td>0.002214</td>\n",
       "      <td>2027.0</td>\n",
       "      <td>1.0</td>\n",
       "      <td>2.0</td>\n",
       "      <td>0</td>\n",
       "      <td>{'Gas_tax': 0.12771614916946036, 'Green_electr...</td>\n",
       "      <td>excelmodel</td>\n",
       "      <td>3.517517e+07</td>\n",
       "      <td>-76253.016365</td>\n",
       "      <td>-146.379806</td>\n",
       "      <td>167.246707</td>\n",
       "      <td>20.866901</td>\n",
       "      <td>-0.615886</td>\n",
       "      <td>7.074477</td>\n",
       "    </tr>\n",
       "    <tr>\n",
       "      <th>1</th>\n",
       "      <td>0.027125</td>\n",
       "      <td>0.004172</td>\n",
       "      <td>1.0</td>\n",
       "      <td>1.026961</td>\n",
       "      <td>0.127716</td>\n",
       "      <td>0.002214</td>\n",
       "      <td>2027.0</td>\n",
       "      <td>1.0</td>\n",
       "      <td>2.0</td>\n",
       "      <td>1</td>\n",
       "      <td>{'Gas_tax': 0.12771614916946036, 'Green_electr...</td>\n",
       "      <td>excelmodel</td>\n",
       "      <td>1.203312e+08</td>\n",
       "      <td>19884.028742</td>\n",
       "      <td>-154.649986</td>\n",
       "      <td>184.415198</td>\n",
       "      <td>29.765212</td>\n",
       "      <td>-0.606528</td>\n",
       "      <td>7.271348</td>\n",
       "    </tr>\n",
       "    <tr>\n",
       "      <th>2</th>\n",
       "      <td>0.019482</td>\n",
       "      <td>0.006103</td>\n",
       "      <td>1.0</td>\n",
       "      <td>0.934727</td>\n",
       "      <td>0.127716</td>\n",
       "      <td>0.002214</td>\n",
       "      <td>2027.0</td>\n",
       "      <td>1.0</td>\n",
       "      <td>2.0</td>\n",
       "      <td>2</td>\n",
       "      <td>{'Gas_tax': 0.12771614916946036, 'Green_electr...</td>\n",
       "      <td>excelmodel</td>\n",
       "      <td>7.625807e+07</td>\n",
       "      <td>-66989.687075</td>\n",
       "      <td>-142.757189</td>\n",
       "      <td>163.674549</td>\n",
       "      <td>20.917360</td>\n",
       "      <td>-0.615131</td>\n",
       "      <td>7.090361</td>\n",
       "    </tr>\n",
       "  </tbody>\n",
       "</table>\n",
       "</div>"
      ],
      "text/plain": [
       "   Discount_rate  Efficiency_gain  Price_scenario  Production_uncertainty  \\\n",
       "0       0.034036         0.006274             3.0                0.957272   \n",
       "1       0.027125         0.004172             1.0                1.026961   \n",
       "2       0.019482         0.006103             1.0                0.934727   \n",
       "\n",
       "    Gas_tax  Green_electricity_subsidy  Investment_year  Steam_tech_amount  \\\n",
       "0  0.127716                   0.002214           2027.0                1.0   \n",
       "1  0.127716                   0.002214           2027.0                1.0   \n",
       "2  0.127716                   0.002214           2027.0                1.0   \n",
       "\n",
       "   Vapor_tech_amount scenario_id  \\\n",
       "0                2.0           0   \n",
       "1                2.0           1   \n",
       "2                2.0           2   \n",
       "\n",
       "                                              policy       model  \\\n",
       "0  {'Gas_tax': 0.12771614916946036, 'Green_electr...  excelmodel   \n",
       "1  {'Gas_tax': 0.12771614916946036, 'Green_electr...  excelmodel   \n",
       "2  {'Gas_tax': 0.12771614916946036, 'Green_electr...  excelmodel   \n",
       "\n",
       "            NPV  Energy_usage_change  Direct_emissions_change  \\\n",
       "0  3.517517e+07        -76253.016365              -146.379806   \n",
       "1  1.203312e+08         19884.028742              -154.649986   \n",
       "2  7.625807e+07        -66989.687075              -142.757189   \n",
       "\n",
       "   Indirect_emissions_change  Emissions_change  P_direct_emission_change  \\\n",
       "0                 167.246707         20.866901                 -0.615886   \n",
       "1                 184.415198         29.765212                 -0.606528   \n",
       "2                 163.674549         20.917360                 -0.615131   \n",
       "\n",
       "   P_indirect_emission_change  \n",
       "0                    7.074477  \n",
       "1                    7.271348  \n",
       "2                    7.090361  "
      ]
     },
     "execution_count": 14,
     "metadata": {},
     "output_type": "execute_result"
    }
   ],
   "source": [
    "results_df=pd.concat([experiment_data, outcome_data], axis=1)\n",
    "results_df.head(3)"
   ]
  },
  {
   "cell_type": "markdown",
   "metadata": {},
   "source": [
    "## Scenario discovery"
   ]
  },
  {
   "cell_type": "code",
   "execution_count": 56,
   "metadata": {
    "collapsed": false
   },
   "outputs": [],
   "source": [
    "outcome_data_test=outcome_data\n",
    "outcome_data_test['P_direct_emission_change_negative']=outcome_data_test.P_direct_emission_change<0\n",
    "outcome_data_test['P_indirect_emission_change_negative']=outcome_data_test.P_indirect_emission_change<5.25\n",
    "outcome_data_test['P_both_emission_change_negative']=outcome_data_test['P_direct_emission_change_negative']&outcome_data_test['P_indirect_emission_change_negative']\n",
    "\n",
    "outcome_data_test['Positive_NPV']=outcome_data_test.NPV>0"
   ]
  },
  {
   "cell_type": "code",
   "execution_count": 58,
   "metadata": {
    "collapsed": false
   },
   "outputs": [
    {
     "name": "stderr",
     "output_type": "stream",
     "text": [
      "[MainProcess/INFO] 2500 points remaining, containing 2252 cases of interest\n",
      "[MainProcess/INFO] mean: 1.0, mass: 0.38, coverage: 0.4218472468916519, density: 1.0 restricted_dimensions: 1.0\n"
     ]
    }
   ],
   "source": [
    "# Selecting relevant dataframes for scenario analysis\n",
    "x_df=experiment_data.ix[:,0:4]\n",
    "#x_df=experiment_data[['Discount_rate','Efficiency_gain','Production_uncertainty']]\n",
    "y_df=outcome_data['P_direct_emission_change_negative']&outcome_data_test['Positive_NPV']#&outcome_data_test['P_indirect_emission_change_negative']\n",
    "\n",
    "# Converting dataframes to arrays\n",
    "x = x_df.to_records()\n",
    "y = y_df.values\n",
    "\n",
    "# Running the Patient rule induction (PRIM) algorithm \n",
    "prim_alg = prim.Prim(x,y, threshold=0.3)\n",
    "box_1 = prim_alg.find_box()"
   ]
  },
  {
   "cell_type": "code",
   "execution_count": 59,
   "metadata": {
    "collapsed": false
   },
   "outputs": [
    {
     "data": {
      "image/png": "[encoded data removed]",
      "text/plain": [
       "<matplotlib.figure.Figure at 0x2d25c70>"
      ]
     },
     "metadata": {},
     "output_type": "display_data"
    },
    {
     "data": {
      "text/html": [
       "\n",
       "\n",
       "<style>\n",
       "\n",
       "            table\n",
       "            {\n",
       "              border-collapse: collapse;\n",
       "            }\n",
       "            th\n",
       "            {\n",
       "              background-color:  rgba(255,255,255,0.6);;;\n",
       "            }\n",
       "            td\n",
       "            {\n",
       "              background-color: rgba(255,255,255,0.6);;\n",
       "            }\n",
       "            table, th, td\n",
       "            {\n",
       "              font-family:Tahoma, Tahoma, sans-serif;\n",
       "              font-size: 16px;\n",
       "              border: 1px solid black;\n",
       "              text-align: right;\n",
       "            }\n",
       "            \n",
       "</style>\n",
       "\n",
       "<div id=\"fig_el63881909187683841825561\"></div>\n",
       "<script>\n",
       "function mpld3_load_lib(url, callback){\n",
       "  var s = document.createElement('script');\n",
       "  s.src = url;\n",
       "  s.async = true;\n",
       "  s.onreadystatechange = s.onload = callback;\n",
       "  s.onerror = function(){console.warn(\"failed to load library \" + url);};\n",
       "  document.getElementsByTagName(\"head\")[0].appendChild(s);\n",
       "}\n",
       "\n",
       "if(typeof(mpld3) !== \"undefined\" && mpld3._mpld3IsLoaded){\n",
       "   // already loaded: just create the figure\n",
       "   !function(mpld3){\n",
       "       \n",
       "    mpld3.register_plugin(\"htmltooltip\", HtmlTooltipPlugin);\n",
       "    HtmlTooltipPlugin.prototype = Object.create(mpld3.Plugin.prototype);\n",
       "    HtmlTooltipPlugin.prototype.constructor = HtmlTooltipPlugin;\n",
       "    HtmlTooltipPlugin.prototype.requiredProps = [\"id\"];\n",
       "    HtmlTooltipPlugin.prototype.defaultProps = {labels:null,\n",
       "                                                hoffset:0,\n",
       "                                                voffset:10};\n",
       "    function HtmlTooltipPlugin(fig, props){\n",
       "        mpld3.Plugin.call(this, fig, props);\n",
       "    };\n",
       "\n",
       "    HtmlTooltipPlugin.prototype.draw = function(){\n",
       "       var obj = mpld3.get_element(this.props.id);\n",
       "       var labels = this.props.labels;\n",
       "       var tooltip = d3.select(\"body\").append(\"div\")\n",
       "                    .attr(\"class\", \"mpld3-tooltip\")\n",
       "                    .style(\"position\", \"absolute\")\n",
       "                    .style(\"z-index\", \"10\")\n",
       "                    .style(\"visibility\", \"hidden\");\n",
       "\n",
       "       obj.elements()\n",
       "           .on(\"mouseover\", function(d, i){\n",
       "                              tooltip.html(labels[i])\n",
       "                                     .style(\"visibility\", \"visible\");})\n",
       "           .on(\"mousemove\", function(d, i){\n",
       "                  tooltip\n",
       "                    .style(\"top\", d3.event.pageY + this.props.voffset + \"px\")\n",
       "                    .style(\"left\",d3.event.pageX + this.props.hoffset + \"px\");\n",
       "                 }.bind(this))\n",
       "           .on(\"mouseout\",  function(d, i){\n",
       "                           tooltip.style(\"visibility\", \"hidden\");});\n",
       "    };\n",
       "    \n",
       "       mpld3.draw_figure(\"fig_el63881909187683841825561\", {\"width\": 576.0, \"height\": 396.0, \"axes\": [{\"bbox\": [0.2259375, 0.125, 0.5190625, 0.755], \"xlim\": [0.0, 1.2], \"ylim\": [0.0, 1.2], \"xdomain\": [0.0, 1.2], \"ydomain\": [0.0, 1.2], \"xscale\": \"linear\", \"yscale\": \"linear\", \"axes\": [{\"position\": \"bottom\", \"nticks\": 7, \"tickvalues\": null, \"tickformat\": null, \"scale\": \"linear\", \"fontsize\": 10.0, \"grid\": {\"gridOn\": true, \"color\": \"#FFFFFF\", \"dasharray\": \"none\", \"alpha\": 1.0}, \"visible\": true}, {\"position\": \"left\", \"nticks\": 7, \"tickvalues\": null, \"tickformat\": null, \"scale\": \"linear\", \"fontsize\": 10.0, \"grid\": {\"gridOn\": true, \"color\": \"#FFFFFF\", \"dasharray\": \"none\", \"alpha\": 1.0}, \"visible\": true}], \"axesbg\": \"#EAEAF2\", \"axesbgalpha\": null, \"zoomable\": true, \"id\": \"el638844721968\", \"lines\": [], \"paths\": [], \"markers\": [], \"texts\": [{\"text\": \"coverage\", \"position\": [0.5, -0.06689410662920595], \"coordinates\": \"axes\", \"h_anchor\": \"middle\", \"v_baseline\": \"hanging\", \"rotation\": -0.0, \"fontsize\": 11.0, \"color\": \"#262626\", \"alpha\": 1, \"zorder\": 3, \"id\": \"el6388201053136\"}, {\"text\": \"density\", \"position\": [-0.0836176332865074, 0.5], \"coordinates\": \"axes\", \"h_anchor\": \"middle\", \"v_baseline\": \"auto\", \"rotation\": -90.0, \"fontsize\": 11.0, \"color\": \"#262626\", \"alpha\": 1, \"zorder\": 3, \"id\": \"el6388207943312\"}], \"collections\": [{\"offsets\": \"data01\", \"xindex\": 0, \"yindex\": 1, \"paths\": [[[[0.0, -0.5], [0.13260155, -0.5], [0.25978993539242673, -0.44731684579412084], [0.3535533905932738, -0.3535533905932738], [0.44731684579412084, -0.25978993539242673], [0.5, -0.13260155], [0.5, 0.0], [0.5, 0.13260155], [0.44731684579412084, 0.25978993539242673], [0.3535533905932738, 0.3535533905932738], [0.25978993539242673, 0.44731684579412084], [0.13260155, 0.5], [0.0, 0.5], [-0.13260155, 0.5], [-0.25978993539242673, 0.44731684579412084], [-0.3535533905932738, 0.3535533905932738], [-0.44731684579412084, 0.25978993539242673], [-0.5, 0.13260155], [-0.5, 0.0], [-0.5, -0.13260155], [-0.44731684579412084, -0.25978993539242673], [-0.3535533905932738, -0.3535533905932738], [-0.25978993539242673, -0.44731684579412084], [-0.13260155, -0.5], [0.0, -0.5]], [\"M\", \"C\", \"C\", \"C\", \"C\", \"C\", \"C\", \"C\", \"C\", \"Z\"]]], \"pathtransforms\": [[7.0, 0.0, 0.0, 7.0, 0.0, 0.0]], \"alphas\": [null], \"edgecolors\": [\"#440154\", \"#FDE724\", \"#FDE724\", \"#FDE724\", \"#FDE724\", \"#FDE724\", \"#FDE724\", \"#FDE724\", \"#FDE724\", \"#FDE724\", \"#FDE724\", \"#FDE724\", \"#FDE724\", \"#FDE724\", \"#FDE724\"], \"facecolors\": [\"#440154\", \"#FDE724\", \"#FDE724\", \"#FDE724\", \"#FDE724\", \"#FDE724\", \"#FDE724\", \"#FDE724\", \"#FDE724\", \"#FDE724\", \"#FDE724\", \"#FDE724\", \"#FDE724\", \"#FDE724\", \"#FDE724\"], \"edgewidths\": [0.3], \"offsetcoordinates\": \"data\", \"pathcoordinates\": \"display\", \"zorder\": 1, \"id\": \"el6388196745968\"}], \"images\": [], \"sharex\": [], \"sharey\": []}, {\"bbox\": [0.78375, 0.1250000000000001, 0.02595312500000002, 0.7549999999999999], \"xlim\": [0.0, 1.0], \"ylim\": [0.0, 1.0], \"xdomain\": [0.0, 1.0], \"ydomain\": [0.0, 1.0], \"xscale\": \"linear\", \"yscale\": \"linear\", \"axes\": [{\"position\": \"bottom\", \"nticks\": 0, \"tickvalues\": [], \"tickformat\": \"\", \"scale\": \"linear\", \"fontsize\": null, \"grid\": {\"gridOn\": false}, \"visible\": true}, {\"position\": \"right\", \"nticks\": 2, \"tickvalues\": [0.25, 0.75], \"tickformat\": [\"0\", \"1\"], \"scale\": \"linear\", \"fontsize\": 10.0, \"grid\": {\"gridOn\": false}, \"visible\": true}], \"axesbg\": \"#EAEAF2\", \"axesbgalpha\": null, \"zoomable\": false, \"id\": \"el6388196743504\", \"lines\": [], \"paths\": [], \"markers\": [], \"texts\": [{\"text\": \"nr. of restricted dimensions\", \"position\": [2.112114522710545, 0.5], \"coordinates\": \"axes\", \"h_anchor\": \"middle\", \"v_baseline\": \"hanging\", \"rotation\": -90.0, \"fontsize\": 11.0, \"color\": \"#262626\", \"alpha\": 1, \"zorder\": 3, \"id\": \"el638848375792\"}], \"collections\": [{\"offsets\": \"data02\", \"xindex\": 0, \"yindex\": 1, \"paths\": [[[[0.0, 0.0], [1.0, 0.0], [1.0, 0.5], [0.0, 0.5], [0.0, 0.0]], [\"M\", \"L\", \"L\", \"L\", \"L\"]], [[[0.0, 0.5], [1.0, 0.5], [1.0, 1.0], [0.0, 1.0], [0.0, 0.5]], [\"M\", \"L\", \"L\", \"L\", \"L\"]]], \"pathtransforms\": [], \"alphas\": [null], \"edgecolors\": [], \"facecolors\": [\"#440154\", \"#FDE724\"], \"edgewidths\": [0.3], \"offsetcoordinates\": \"display\", \"pathcoordinates\": \"data\", \"zorder\": 1, \"id\": \"el638846774576\"}, {\"offsets\": \"data02\", \"xindex\": 0, \"yindex\": 0, \"paths\": [[[[0.0, 0.5], [1.0, 0.5]], [\"M\", \"L\"]]], \"pathtransforms\": [], \"alphas\": [null], \"edgecolors\": [\"#FFFFFF\"], \"facecolors\": [], \"edgewidths\": [0.0], \"offsetcoordinates\": \"display\", \"pathcoordinates\": \"data\", \"zorder\": 2, \"id\": \"el638846772432\"}], \"images\": [], \"sharex\": [], \"sharey\": []}], \"data\": {\"data01\": [[1.0, 0.9008], [0.9498223801065719, 0.9102127659574468], [0.8974245115452931, 0.9186363636363636], [0.8414742451154529, 0.9243902439024391], [0.7855239786856127, 0.9310526315789474], [0.7482238010657194, 0.9361111111111111], [0.7109236234458259, 0.941764705882353], [0.6736234458259325, 0.948125], [0.6363232682060391, 0.9553333333333334], [0.5990230905861457, 0.9635714285714285], [0.5617229129662522, 0.9730769230769231], [0.5239786856127886, 0.9833333333333333], [0.4844582593250444, 0.9918181818181818], [0.4422735346358792, 0.996], [0.4218472468916519, 1.0]], \"data02\": [[0.0, 0.0]]}, \"id\": \"el6388190918768\", \"plugins\": [{\"type\": \"reset\"}, {\"type\": \"zoom\", \"button\": true, \"enabled\": false}, {\"type\": \"boxzoom\", \"button\": true, \"enabled\": false}, {\"type\": \"htmltooltip\", \"id\": \"el6388196745968\", \"labels\": [\"<table border=\\\"1\\\" class=\\\"dataframe\\\">\\n  <thead>\\n    <tr style=\\\"text-align: right;\\\">\\n      <th></th>\\n      <th>box 0</th>\\n    </tr>\\n  </thead>\\n  <tbody>\\n    <tr>\\n      <th>coverage</th>\\n      <td>1.00</td>\\n    </tr>\\n    <tr>\\n      <th>density</th>\\n      <td>0.90</td>\\n    </tr>\\n    <tr>\\n      <th>mass</th>\\n      <td>1.00</td>\\n    </tr>\\n    <tr>\\n      <th>res dim</th>\\n      <td>0.00</td>\\n    </tr>\\n  </tbody>\\n</table>\", \"<table border=\\\"1\\\" class=\\\"dataframe\\\">\\n  <thead>\\n    <tr style=\\\"text-align: right;\\\">\\n      <th></th>\\n      <th>box 1</th>\\n    </tr>\\n  </thead>\\n  <tbody>\\n    <tr>\\n      <th>coverage</th>\\n      <td>0.95</td>\\n    </tr>\\n    <tr>\\n      <th>density</th>\\n      <td>0.91</td>\\n    </tr>\\n    <tr>\\n      <th>mass</th>\\n      <td>0.94</td>\\n    </tr>\\n    <tr>\\n      <th>res dim</th>\\n      <td>1.00</td>\\n    </tr>\\n  </tbody>\\n</table>\", \"<table border=\\\"1\\\" class=\\\"dataframe\\\">\\n  <thead>\\n    <tr style=\\\"text-align: right;\\\">\\n      <th></th>\\n      <th>box 2</th>\\n    </tr>\\n  </thead>\\n  <tbody>\\n    <tr>\\n      <th>coverage</th>\\n      <td>0.90</td>\\n    </tr>\\n    <tr>\\n      <th>density</th>\\n      <td>0.92</td>\\n    </tr>\\n    <tr>\\n      <th>mass</th>\\n      <td>0.88</td>\\n    </tr>\\n    <tr>\\n      <th>res dim</th>\\n      <td>1.00</td>\\n    </tr>\\n  </tbody>\\n</table>\", \"<table border=\\\"1\\\" class=\\\"dataframe\\\">\\n  <thead>\\n    <tr style=\\\"text-align: right;\\\">\\n      <th></th>\\n      <th>box 3</th>\\n    </tr>\\n  </thead>\\n  <tbody>\\n    <tr>\\n      <th>coverage</th>\\n      <td>0.84</td>\\n    </tr>\\n    <tr>\\n      <th>density</th>\\n      <td>0.92</td>\\n    </tr>\\n    <tr>\\n      <th>mass</th>\\n      <td>0.82</td>\\n    </tr>\\n    <tr>\\n      <th>res dim</th>\\n      <td>1.00</td>\\n    </tr>\\n  </tbody>\\n</table>\", \"<table border=\\\"1\\\" class=\\\"dataframe\\\">\\n  <thead>\\n    <tr style=\\\"text-align: right;\\\">\\n      <th></th>\\n      <th>box 4</th>\\n    </tr>\\n  </thead>\\n  <tbody>\\n    <tr>\\n      <th>coverage</th>\\n      <td>0.79</td>\\n    </tr>\\n    <tr>\\n      <th>density</th>\\n      <td>0.93</td>\\n    </tr>\\n    <tr>\\n      <th>mass</th>\\n      <td>0.76</td>\\n    </tr>\\n    <tr>\\n      <th>res dim</th>\\n      <td>1.00</td>\\n    </tr>\\n  </tbody>\\n</table>\", \"<table border=\\\"1\\\" class=\\\"dataframe\\\">\\n  <thead>\\n    <tr style=\\\"text-align: right;\\\">\\n      <th></th>\\n      <th>box 5</th>\\n    </tr>\\n  </thead>\\n  <tbody>\\n    <tr>\\n      <th>coverage</th>\\n      <td>0.75</td>\\n    </tr>\\n    <tr>\\n      <th>density</th>\\n      <td>0.94</td>\\n    </tr>\\n    <tr>\\n      <th>mass</th>\\n      <td>0.72</td>\\n    </tr>\\n    <tr>\\n      <th>res dim</th>\\n      <td>1.00</td>\\n    </tr>\\n  </tbody>\\n</table>\", \"<table border=\\\"1\\\" class=\\\"dataframe\\\">\\n  <thead>\\n    <tr style=\\\"text-align: right;\\\">\\n      <th></th>\\n      <th>box 6</th>\\n    </tr>\\n  </thead>\\n  <tbody>\\n    <tr>\\n      <th>coverage</th>\\n      <td>0.71</td>\\n    </tr>\\n    <tr>\\n      <th>density</th>\\n      <td>0.94</td>\\n    </tr>\\n    <tr>\\n      <th>mass</th>\\n      <td>0.68</td>\\n    </tr>\\n    <tr>\\n      <th>res dim</th>\\n      <td>1.00</td>\\n    </tr>\\n  </tbody>\\n</table>\", \"<table border=\\\"1\\\" class=\\\"dataframe\\\">\\n  <thead>\\n    <tr style=\\\"text-align: right;\\\">\\n      <th></th>\\n      <th>box 7</th>\\n    </tr>\\n  </thead>\\n  <tbody>\\n    <tr>\\n      <th>coverage</th>\\n      <td>0.67</td>\\n    </tr>\\n    <tr>\\n      <th>density</th>\\n      <td>0.95</td>\\n    </tr>\\n    <tr>\\n      <th>mass</th>\\n      <td>0.64</td>\\n    </tr>\\n    <tr>\\n      <th>res dim</th>\\n      <td>1.00</td>\\n    </tr>\\n  </tbody>\\n</table>\", \"<table border=\\\"1\\\" class=\\\"dataframe\\\">\\n  <thead>\\n    <tr style=\\\"text-align: right;\\\">\\n      <th></th>\\n      <th>box 8</th>\\n    </tr>\\n  </thead>\\n  <tbody>\\n    <tr>\\n      <th>coverage</th>\\n      <td>0.64</td>\\n    </tr>\\n    <tr>\\n      <th>density</th>\\n      <td>0.96</td>\\n    </tr>\\n    <tr>\\n      <th>mass</th>\\n      <td>0.60</td>\\n    </tr>\\n    <tr>\\n      <th>res dim</th>\\n      <td>1.00</td>\\n    </tr>\\n  </tbody>\\n</table>\", \"<table border=\\\"1\\\" class=\\\"dataframe\\\">\\n  <thead>\\n    <tr style=\\\"text-align: right;\\\">\\n      <th></th>\\n      <th>box 9</th>\\n    </tr>\\n  </thead>\\n  <tbody>\\n    <tr>\\n      <th>coverage</th>\\n      <td>0.60</td>\\n    </tr>\\n    <tr>\\n      <th>density</th>\\n      <td>0.96</td>\\n    </tr>\\n    <tr>\\n      <th>mass</th>\\n      <td>0.56</td>\\n    </tr>\\n    <tr>\\n      <th>res dim</th>\\n      <td>1.00</td>\\n    </tr>\\n  </tbody>\\n</table>\", \"<table border=\\\"1\\\" class=\\\"dataframe\\\">\\n  <thead>\\n    <tr style=\\\"text-align: right;\\\">\\n      <th></th>\\n      <th>box 10</th>\\n    </tr>\\n  </thead>\\n  <tbody>\\n    <tr>\\n      <th>coverage</th>\\n      <td>0.56</td>\\n    </tr>\\n    <tr>\\n      <th>density</th>\\n      <td>0.97</td>\\n    </tr>\\n    <tr>\\n      <th>mass</th>\\n      <td>0.52</td>\\n    </tr>\\n    <tr>\\n      <th>res dim</th>\\n      <td>1.00</td>\\n    </tr>\\n  </tbody>\\n</table>\", \"<table border=\\\"1\\\" class=\\\"dataframe\\\">\\n  <thead>\\n    <tr style=\\\"text-align: right;\\\">\\n      <th></th>\\n      <th>box 11</th>\\n    </tr>\\n  </thead>\\n  <tbody>\\n    <tr>\\n      <th>coverage</th>\\n      <td>0.52</td>\\n    </tr>\\n    <tr>\\n      <th>density</th>\\n      <td>0.98</td>\\n    </tr>\\n    <tr>\\n      <th>mass</th>\\n      <td>0.48</td>\\n    </tr>\\n    <tr>\\n      <th>res dim</th>\\n      <td>1.00</td>\\n    </tr>\\n  </tbody>\\n</table>\", \"<table border=\\\"1\\\" class=\\\"dataframe\\\">\\n  <thead>\\n    <tr style=\\\"text-align: right;\\\">\\n      <th></th>\\n      <th>box 12</th>\\n    </tr>\\n  </thead>\\n  <tbody>\\n    <tr>\\n      <th>coverage</th>\\n      <td>0.48</td>\\n    </tr>\\n    <tr>\\n      <th>density</th>\\n      <td>0.99</td>\\n    </tr>\\n    <tr>\\n      <th>mass</th>\\n      <td>0.44</td>\\n    </tr>\\n    <tr>\\n      <th>res dim</th>\\n      <td>1.00</td>\\n    </tr>\\n  </tbody>\\n</table>\", \"<table border=\\\"1\\\" class=\\\"dataframe\\\">\\n  <thead>\\n    <tr style=\\\"text-align: right;\\\">\\n      <th></th>\\n      <th>box 13</th>\\n    </tr>\\n  </thead>\\n  <tbody>\\n    <tr>\\n      <th>coverage</th>\\n      <td>0.44</td>\\n    </tr>\\n    <tr>\\n      <th>density</th>\\n      <td>1.00</td>\\n    </tr>\\n    <tr>\\n      <th>mass</th>\\n      <td>0.40</td>\\n    </tr>\\n    <tr>\\n      <th>res dim</th>\\n      <td>1.00</td>\\n    </tr>\\n  </tbody>\\n</table>\", \"<table border=\\\"1\\\" class=\\\"dataframe\\\">\\n  <thead>\\n    <tr style=\\\"text-align: right;\\\">\\n      <th></th>\\n      <th>box 14</th>\\n    </tr>\\n  </thead>\\n  <tbody>\\n    <tr>\\n      <th>coverage</th>\\n      <td>0.42</td>\\n    </tr>\\n    <tr>\\n      <th>density</th>\\n      <td>1.00</td>\\n    </tr>\\n    <tr>\\n      <th>mass</th>\\n      <td>0.38</td>\\n    </tr>\\n    <tr>\\n      <th>res dim</th>\\n      <td>1.00</td>\\n    </tr>\\n  </tbody>\\n</table>\"], \"hoffset\": 10, \"voffset\": 10}]});\n",
       "   }(mpld3);\n",
       "}else if(typeof define === \"function\" && define.amd){\n",
       "   // require.js is available: use it to load d3/mpld3\n",
       "   require.config({paths: {d3: \"https://mpld3.github.io/js/d3.v3.min\"}});\n",
       "   require([\"d3\"], function(d3){\n",
       "      window.d3 = d3;\n",
       "      mpld3_load_lib(\"https://mpld3.github.io/js/mpld3.v0.3.js\", function(){\n",
       "         \n",
       "    mpld3.register_plugin(\"htmltooltip\", HtmlTooltipPlugin);\n",
       "    HtmlTooltipPlugin.prototype = Object.create(mpld3.Plugin.prototype);\n",
       "    HtmlTooltipPlugin.prototype.constructor = HtmlTooltipPlugin;\n",
       "    HtmlTooltipPlugin.prototype.requiredProps = [\"id\"];\n",
       "    HtmlTooltipPlugin.prototype.defaultProps = {labels:null,\n",
       "                                                hoffset:0,\n",
       "                                                voffset:10};\n",
       "    function HtmlTooltipPlugin(fig, props){\n",
       "        mpld3.Plugin.call(this, fig, props);\n",
       "    };\n",
       "\n",
       "    HtmlTooltipPlugin.prototype.draw = function(){\n",
       "       var obj = mpld3.get_element(this.props.id);\n",
       "       var labels = this.props.labels;\n",
       "       var tooltip = d3.select(\"body\").append(\"div\")\n",
       "                    .attr(\"class\", \"mpld3-tooltip\")\n",
       "                    .style(\"position\", \"absolute\")\n",
       "                    .style(\"z-index\", \"10\")\n",
       "                    .style(\"visibility\", \"hidden\");\n",
       "\n",
       "       obj.elements()\n",
       "           .on(\"mouseover\", function(d, i){\n",
       "                              tooltip.html(labels[i])\n",
       "                                     .style(\"visibility\", \"visible\");})\n",
       "           .on(\"mousemove\", function(d, i){\n",
       "                  tooltip\n",
       "                    .style(\"top\", d3.event.pageY + this.props.voffset + \"px\")\n",
       "                    .style(\"left\",d3.event.pageX + this.props.hoffset + \"px\");\n",
       "                 }.bind(this))\n",
       "           .on(\"mouseout\",  function(d, i){\n",
       "                           tooltip.style(\"visibility\", \"hidden\");});\n",
       "    };\n",
       "    \n",
       "         mpld3.draw_figure(\"fig_el63881909187683841825561\", {\"width\": 576.0, \"height\": 396.0, \"axes\": [{\"bbox\": [0.2259375, 0.125, 0.5190625, 0.755], \"xlim\": [0.0, 1.2], \"ylim\": [0.0, 1.2], \"xdomain\": [0.0, 1.2], \"ydomain\": [0.0, 1.2], \"xscale\": \"linear\", \"yscale\": \"linear\", \"axes\": [{\"position\": \"bottom\", \"nticks\": 7, \"tickvalues\": null, \"tickformat\": null, \"scale\": \"linear\", \"fontsize\": 10.0, \"grid\": {\"gridOn\": true, \"color\": \"#FFFFFF\", \"dasharray\": \"none\", \"alpha\": 1.0}, \"visible\": true}, {\"position\": \"left\", \"nticks\": 7, \"tickvalues\": null, \"tickformat\": null, \"scale\": \"linear\", \"fontsize\": 10.0, \"grid\": {\"gridOn\": true, \"color\": \"#FFFFFF\", \"dasharray\": \"none\", \"alpha\": 1.0}, \"visible\": true}], \"axesbg\": \"#EAEAF2\", \"axesbgalpha\": null, \"zoomable\": true, \"id\": \"el638844721968\", \"lines\": [], \"paths\": [], \"markers\": [], \"texts\": [{\"text\": \"coverage\", \"position\": [0.5, -0.06689410662920595], \"coordinates\": \"axes\", \"h_anchor\": \"middle\", \"v_baseline\": \"hanging\", \"rotation\": -0.0, \"fontsize\": 11.0, \"color\": \"#262626\", \"alpha\": 1, \"zorder\": 3, \"id\": \"el6388201053136\"}, {\"text\": \"density\", \"position\": [-0.0836176332865074, 0.5], \"coordinates\": \"axes\", \"h_anchor\": \"middle\", \"v_baseline\": \"auto\", \"rotation\": -90.0, \"fontsize\": 11.0, \"color\": \"#262626\", \"alpha\": 1, \"zorder\": 3, \"id\": \"el6388207943312\"}], \"collections\": [{\"offsets\": \"data01\", \"xindex\": 0, \"yindex\": 1, \"paths\": [[[[0.0, -0.5], [0.13260155, -0.5], [0.25978993539242673, -0.44731684579412084], [0.3535533905932738, -0.3535533905932738], [0.44731684579412084, -0.25978993539242673], [0.5, -0.13260155], [0.5, 0.0], [0.5, 0.13260155], [0.44731684579412084, 0.25978993539242673], [0.3535533905932738, 0.3535533905932738], [0.25978993539242673, 0.44731684579412084], [0.13260155, 0.5], [0.0, 0.5], [-0.13260155, 0.5], [-0.25978993539242673, 0.44731684579412084], [-0.3535533905932738, 0.3535533905932738], [-0.44731684579412084, 0.25978993539242673], [-0.5, 0.13260155], [-0.5, 0.0], [-0.5, -0.13260155], [-0.44731684579412084, -0.25978993539242673], [-0.3535533905932738, -0.3535533905932738], [-0.25978993539242673, -0.44731684579412084], [-0.13260155, -0.5], [0.0, -0.5]], [\"M\", \"C\", \"C\", \"C\", \"C\", \"C\", \"C\", \"C\", \"C\", \"Z\"]]], \"pathtransforms\": [[7.0, 0.0, 0.0, 7.0, 0.0, 0.0]], \"alphas\": [null], \"edgecolors\": [\"#440154\", \"#FDE724\", \"#FDE724\", \"#FDE724\", \"#FDE724\", \"#FDE724\", \"#FDE724\", \"#FDE724\", \"#FDE724\", \"#FDE724\", \"#FDE724\", \"#FDE724\", \"#FDE724\", \"#FDE724\", \"#FDE724\"], \"facecolors\": [\"#440154\", \"#FDE724\", \"#FDE724\", \"#FDE724\", \"#FDE724\", \"#FDE724\", \"#FDE724\", \"#FDE724\", \"#FDE724\", \"#FDE724\", \"#FDE724\", \"#FDE724\", \"#FDE724\", \"#FDE724\", \"#FDE724\"], \"edgewidths\": [0.3], \"offsetcoordinates\": \"data\", \"pathcoordinates\": \"display\", \"zorder\": 1, \"id\": \"el6388196745968\"}], \"images\": [], \"sharex\": [], \"sharey\": []}, {\"bbox\": [0.78375, 0.1250000000000001, 0.02595312500000002, 0.7549999999999999], \"xlim\": [0.0, 1.0], \"ylim\": [0.0, 1.0], \"xdomain\": [0.0, 1.0], \"ydomain\": [0.0, 1.0], \"xscale\": \"linear\", \"yscale\": \"linear\", \"axes\": [{\"position\": \"bottom\", \"nticks\": 0, \"tickvalues\": [], \"tickformat\": \"\", \"scale\": \"linear\", \"fontsize\": null, \"grid\": {\"gridOn\": false}, \"visible\": true}, {\"position\": \"right\", \"nticks\": 2, \"tickvalues\": [0.25, 0.75], \"tickformat\": [\"0\", \"1\"], \"scale\": \"linear\", \"fontsize\": 10.0, \"grid\": {\"gridOn\": false}, \"visible\": true}], \"axesbg\": \"#EAEAF2\", \"axesbgalpha\": null, \"zoomable\": false, \"id\": \"el6388196743504\", \"lines\": [], \"paths\": [], \"markers\": [], \"texts\": [{\"text\": \"nr. of restricted dimensions\", \"position\": [2.112114522710545, 0.5], \"coordinates\": \"axes\", \"h_anchor\": \"middle\", \"v_baseline\": \"hanging\", \"rotation\": -90.0, \"fontsize\": 11.0, \"color\": \"#262626\", \"alpha\": 1, \"zorder\": 3, \"id\": \"el638848375792\"}], \"collections\": [{\"offsets\": \"data02\", \"xindex\": 0, \"yindex\": 1, \"paths\": [[[[0.0, 0.0], [1.0, 0.0], [1.0, 0.5], [0.0, 0.5], [0.0, 0.0]], [\"M\", \"L\", \"L\", \"L\", \"L\"]], [[[0.0, 0.5], [1.0, 0.5], [1.0, 1.0], [0.0, 1.0], [0.0, 0.5]], [\"M\", \"L\", \"L\", \"L\", \"L\"]]], \"pathtransforms\": [], \"alphas\": [null], \"edgecolors\": [], \"facecolors\": [\"#440154\", \"#FDE724\"], \"edgewidths\": [0.3], \"offsetcoordinates\": \"display\", \"pathcoordinates\": \"data\", \"zorder\": 1, \"id\": \"el638846774576\"}, {\"offsets\": \"data02\", \"xindex\": 0, \"yindex\": 0, \"paths\": [[[[0.0, 0.5], [1.0, 0.5]], [\"M\", \"L\"]]], \"pathtransforms\": [], \"alphas\": [null], \"edgecolors\": [\"#FFFFFF\"], \"facecolors\": [], \"edgewidths\": [0.0], \"offsetcoordinates\": \"display\", \"pathcoordinates\": \"data\", \"zorder\": 2, \"id\": \"el638846772432\"}], \"images\": [], \"sharex\": [], \"sharey\": []}], \"data\": {\"data01\": [[1.0, 0.9008], [0.9498223801065719, 0.9102127659574468], [0.8974245115452931, 0.9186363636363636], [0.8414742451154529, 0.9243902439024391], [0.7855239786856127, 0.9310526315789474], [0.7482238010657194, 0.9361111111111111], [0.7109236234458259, 0.941764705882353], [0.6736234458259325, 0.948125], [0.6363232682060391, 0.9553333333333334], [0.5990230905861457, 0.9635714285714285], [0.5617229129662522, 0.9730769230769231], [0.5239786856127886, 0.9833333333333333], [0.4844582593250444, 0.9918181818181818], [0.4422735346358792, 0.996], [0.4218472468916519, 1.0]], \"data02\": [[0.0, 0.0]]}, \"id\": \"el6388190918768\", \"plugins\": [{\"type\": \"reset\"}, {\"type\": \"zoom\", \"button\": true, \"enabled\": false}, {\"type\": \"boxzoom\", \"button\": true, \"enabled\": false}, {\"type\": \"htmltooltip\", \"id\": \"el6388196745968\", \"labels\": [\"<table border=\\\"1\\\" class=\\\"dataframe\\\">\\n  <thead>\\n    <tr style=\\\"text-align: right;\\\">\\n      <th></th>\\n      <th>box 0</th>\\n    </tr>\\n  </thead>\\n  <tbody>\\n    <tr>\\n      <th>coverage</th>\\n      <td>1.00</td>\\n    </tr>\\n    <tr>\\n      <th>density</th>\\n      <td>0.90</td>\\n    </tr>\\n    <tr>\\n      <th>mass</th>\\n      <td>1.00</td>\\n    </tr>\\n    <tr>\\n      <th>res dim</th>\\n      <td>0.00</td>\\n    </tr>\\n  </tbody>\\n</table>\", \"<table border=\\\"1\\\" class=\\\"dataframe\\\">\\n  <thead>\\n    <tr style=\\\"text-align: right;\\\">\\n      <th></th>\\n      <th>box 1</th>\\n    </tr>\\n  </thead>\\n  <tbody>\\n    <tr>\\n      <th>coverage</th>\\n      <td>0.95</td>\\n    </tr>\\n    <tr>\\n      <th>density</th>\\n      <td>0.91</td>\\n    </tr>\\n    <tr>\\n      <th>mass</th>\\n      <td>0.94</td>\\n    </tr>\\n    <tr>\\n      <th>res dim</th>\\n      <td>1.00</td>\\n    </tr>\\n  </tbody>\\n</table>\", \"<table border=\\\"1\\\" class=\\\"dataframe\\\">\\n  <thead>\\n    <tr style=\\\"text-align: right;\\\">\\n      <th></th>\\n      <th>box 2</th>\\n    </tr>\\n  </thead>\\n  <tbody>\\n    <tr>\\n      <th>coverage</th>\\n      <td>0.90</td>\\n    </tr>\\n    <tr>\\n      <th>density</th>\\n      <td>0.92</td>\\n    </tr>\\n    <tr>\\n      <th>mass</th>\\n      <td>0.88</td>\\n    </tr>\\n    <tr>\\n      <th>res dim</th>\\n      <td>1.00</td>\\n    </tr>\\n  </tbody>\\n</table>\", \"<table border=\\\"1\\\" class=\\\"dataframe\\\">\\n  <thead>\\n    <tr style=\\\"text-align: right;\\\">\\n      <th></th>\\n      <th>box 3</th>\\n    </tr>\\n  </thead>\\n  <tbody>\\n    <tr>\\n      <th>coverage</th>\\n      <td>0.84</td>\\n    </tr>\\n    <tr>\\n      <th>density</th>\\n      <td>0.92</td>\\n    </tr>\\n    <tr>\\n      <th>mass</th>\\n      <td>0.82</td>\\n    </tr>\\n    <tr>\\n      <th>res dim</th>\\n      <td>1.00</td>\\n    </tr>\\n  </tbody>\\n</table>\", \"<table border=\\\"1\\\" class=\\\"dataframe\\\">\\n  <thead>\\n    <tr style=\\\"text-align: right;\\\">\\n      <th></th>\\n      <th>box 4</th>\\n    </tr>\\n  </thead>\\n  <tbody>\\n    <tr>\\n      <th>coverage</th>\\n      <td>0.79</td>\\n    </tr>\\n    <tr>\\n      <th>density</th>\\n      <td>0.93</td>\\n    </tr>\\n    <tr>\\n      <th>mass</th>\\n      <td>0.76</td>\\n    </tr>\\n    <tr>\\n      <th>res dim</th>\\n      <td>1.00</td>\\n    </tr>\\n  </tbody>\\n</table>\", \"<table border=\\\"1\\\" class=\\\"dataframe\\\">\\n  <thead>\\n    <tr style=\\\"text-align: right;\\\">\\n      <th></th>\\n      <th>box 5</th>\\n    </tr>\\n  </thead>\\n  <tbody>\\n    <tr>\\n      <th>coverage</th>\\n      <td>0.75</td>\\n    </tr>\\n    <tr>\\n      <th>density</th>\\n      <td>0.94</td>\\n    </tr>\\n    <tr>\\n      <th>mass</th>\\n      <td>0.72</td>\\n    </tr>\\n    <tr>\\n      <th>res dim</th>\\n      <td>1.00</td>\\n    </tr>\\n  </tbody>\\n</table>\", \"<table border=\\\"1\\\" class=\\\"dataframe\\\">\\n  <thead>\\n    <tr style=\\\"text-align: right;\\\">\\n      <th></th>\\n      <th>box 6</th>\\n    </tr>\\n  </thead>\\n  <tbody>\\n    <tr>\\n      <th>coverage</th>\\n      <td>0.71</td>\\n    </tr>\\n    <tr>\\n      <th>density</th>\\n      <td>0.94</td>\\n    </tr>\\n    <tr>\\n      <th>mass</th>\\n      <td>0.68</td>\\n    </tr>\\n    <tr>\\n      <th>res dim</th>\\n      <td>1.00</td>\\n    </tr>\\n  </tbody>\\n</table>\", \"<table border=\\\"1\\\" class=\\\"dataframe\\\">\\n  <thead>\\n    <tr style=\\\"text-align: right;\\\">\\n      <th></th>\\n      <th>box 7</th>\\n    </tr>\\n  </thead>\\n  <tbody>\\n    <tr>\\n      <th>coverage</th>\\n      <td>0.67</td>\\n    </tr>\\n    <tr>\\n      <th>density</th>\\n      <td>0.95</td>\\n    </tr>\\n    <tr>\\n      <th>mass</th>\\n      <td>0.64</td>\\n    </tr>\\n    <tr>\\n      <th>res dim</th>\\n      <td>1.00</td>\\n    </tr>\\n  </tbody>\\n</table>\", \"<table border=\\\"1\\\" class=\\\"dataframe\\\">\\n  <thead>\\n    <tr style=\\\"text-align: right;\\\">\\n      <th></th>\\n      <th>box 8</th>\\n    </tr>\\n  </thead>\\n  <tbody>\\n    <tr>\\n      <th>coverage</th>\\n      <td>0.64</td>\\n    </tr>\\n    <tr>\\n      <th>density</th>\\n      <td>0.96</td>\\n    </tr>\\n    <tr>\\n      <th>mass</th>\\n      <td>0.60</td>\\n    </tr>\\n    <tr>\\n      <th>res dim</th>\\n      <td>1.00</td>\\n    </tr>\\n  </tbody>\\n</table>\", \"<table border=\\\"1\\\" class=\\\"dataframe\\\">\\n  <thead>\\n    <tr style=\\\"text-align: right;\\\">\\n      <th></th>\\n      <th>box 9</th>\\n    </tr>\\n  </thead>\\n  <tbody>\\n    <tr>\\n      <th>coverage</th>\\n      <td>0.60</td>\\n    </tr>\\n    <tr>\\n      <th>density</th>\\n      <td>0.96</td>\\n    </tr>\\n    <tr>\\n      <th>mass</th>\\n      <td>0.56</td>\\n    </tr>\\n    <tr>\\n      <th>res dim</th>\\n      <td>1.00</td>\\n    </tr>\\n  </tbody>\\n</table>\", \"<table border=\\\"1\\\" class=\\\"dataframe\\\">\\n  <thead>\\n    <tr style=\\\"text-align: right;\\\">\\n      <th></th>\\n      <th>box 10</th>\\n    </tr>\\n  </thead>\\n  <tbody>\\n    <tr>\\n      <th>coverage</th>\\n      <td>0.56</td>\\n    </tr>\\n    <tr>\\n      <th>density</th>\\n      <td>0.97</td>\\n    </tr>\\n    <tr>\\n      <th>mass</th>\\n      <td>0.52</td>\\n    </tr>\\n    <tr>\\n      <th>res dim</th>\\n      <td>1.00</td>\\n    </tr>\\n  </tbody>\\n</table>\", \"<table border=\\\"1\\\" class=\\\"dataframe\\\">\\n  <thead>\\n    <tr style=\\\"text-align: right;\\\">\\n      <th></th>\\n      <th>box 11</th>\\n    </tr>\\n  </thead>\\n  <tbody>\\n    <tr>\\n      <th>coverage</th>\\n      <td>0.52</td>\\n    </tr>\\n    <tr>\\n      <th>density</th>\\n      <td>0.98</td>\\n    </tr>\\n    <tr>\\n      <th>mass</th>\\n      <td>0.48</td>\\n    </tr>\\n    <tr>\\n      <th>res dim</th>\\n      <td>1.00</td>\\n    </tr>\\n  </tbody>\\n</table>\", \"<table border=\\\"1\\\" class=\\\"dataframe\\\">\\n  <thead>\\n    <tr style=\\\"text-align: right;\\\">\\n      <th></th>\\n      <th>box 12</th>\\n    </tr>\\n  </thead>\\n  <tbody>\\n    <tr>\\n      <th>coverage</th>\\n      <td>0.48</td>\\n    </tr>\\n    <tr>\\n      <th>density</th>\\n      <td>0.99</td>\\n    </tr>\\n    <tr>\\n      <th>mass</th>\\n      <td>0.44</td>\\n    </tr>\\n    <tr>\\n      <th>res dim</th>\\n      <td>1.00</td>\\n    </tr>\\n  </tbody>\\n</table>\", \"<table border=\\\"1\\\" class=\\\"dataframe\\\">\\n  <thead>\\n    <tr style=\\\"text-align: right;\\\">\\n      <th></th>\\n      <th>box 13</th>\\n    </tr>\\n  </thead>\\n  <tbody>\\n    <tr>\\n      <th>coverage</th>\\n      <td>0.44</td>\\n    </tr>\\n    <tr>\\n      <th>density</th>\\n      <td>1.00</td>\\n    </tr>\\n    <tr>\\n      <th>mass</th>\\n      <td>0.40</td>\\n    </tr>\\n    <tr>\\n      <th>res dim</th>\\n      <td>1.00</td>\\n    </tr>\\n  </tbody>\\n</table>\", \"<table border=\\\"1\\\" class=\\\"dataframe\\\">\\n  <thead>\\n    <tr style=\\\"text-align: right;\\\">\\n      <th></th>\\n      <th>box 14</th>\\n    </tr>\\n  </thead>\\n  <tbody>\\n    <tr>\\n      <th>coverage</th>\\n      <td>0.42</td>\\n    </tr>\\n    <tr>\\n      <th>density</th>\\n      <td>1.00</td>\\n    </tr>\\n    <tr>\\n      <th>mass</th>\\n      <td>0.38</td>\\n    </tr>\\n    <tr>\\n      <th>res dim</th>\\n      <td>1.00</td>\\n    </tr>\\n  </tbody>\\n</table>\"], \"hoffset\": 10, \"voffset\": 10}]});\n",
       "      });\n",
       "    });\n",
       "}else{\n",
       "    // require.js not available: dynamically load d3 & mpld3\n",
       "    mpld3_load_lib(\"https://mpld3.github.io/js/d3.v3.min.js\", function(){\n",
       "         mpld3_load_lib(\"https://mpld3.github.io/js/mpld3.v0.3.js\", function(){\n",
       "                 \n",
       "    mpld3.register_plugin(\"htmltooltip\", HtmlTooltipPlugin);\n",
       "    HtmlTooltipPlugin.prototype = Object.create(mpld3.Plugin.prototype);\n",
       "    HtmlTooltipPlugin.prototype.constructor = HtmlTooltipPlugin;\n",
       "    HtmlTooltipPlugin.prototype.requiredProps = [\"id\"];\n",
       "    HtmlTooltipPlugin.prototype.defaultProps = {labels:null,\n",
       "                                                hoffset:0,\n",
       "                                                voffset:10};\n",
       "    function HtmlTooltipPlugin(fig, props){\n",
       "        mpld3.Plugin.call(this, fig, props);\n",
       "    };\n",
       "\n",
       "    HtmlTooltipPlugin.prototype.draw = function(){\n",
       "       var obj = mpld3.get_element(this.props.id);\n",
       "       var labels = this.props.labels;\n",
       "       var tooltip = d3.select(\"body\").append(\"div\")\n",
       "                    .attr(\"class\", \"mpld3-tooltip\")\n",
       "                    .style(\"position\", \"absolute\")\n",
       "                    .style(\"z-index\", \"10\")\n",
       "                    .style(\"visibility\", \"hidden\");\n",
       "\n",
       "       obj.elements()\n",
       "           .on(\"mouseover\", function(d, i){\n",
       "                              tooltip.html(labels[i])\n",
       "                                     .style(\"visibility\", \"visible\");})\n",
       "           .on(\"mousemove\", function(d, i){\n",
       "                  tooltip\n",
       "                    .style(\"top\", d3.event.pageY + this.props.voffset + \"px\")\n",
       "                    .style(\"left\",d3.event.pageX + this.props.hoffset + \"px\");\n",
       "                 }.bind(this))\n",
       "           .on(\"mouseout\",  function(d, i){\n",
       "                           tooltip.style(\"visibility\", \"hidden\");});\n",
       "    };\n",
       "    \n",
       "                 mpld3.draw_figure(\"fig_el63881909187683841825561\", {\"width\": 576.0, \"height\": 396.0, \"axes\": [{\"bbox\": [0.2259375, 0.125, 0.5190625, 0.755], \"xlim\": [0.0, 1.2], \"ylim\": [0.0, 1.2], \"xdomain\": [0.0, 1.2], \"ydomain\": [0.0, 1.2], \"xscale\": \"linear\", \"yscale\": \"linear\", \"axes\": [{\"position\": \"bottom\", \"nticks\": 7, \"tickvalues\": null, \"tickformat\": null, \"scale\": \"linear\", \"fontsize\": 10.0, \"grid\": {\"gridOn\": true, \"color\": \"#FFFFFF\", \"dasharray\": \"none\", \"alpha\": 1.0}, \"visible\": true}, {\"position\": \"left\", \"nticks\": 7, \"tickvalues\": null, \"tickformat\": null, \"scale\": \"linear\", \"fontsize\": 10.0, \"grid\": {\"gridOn\": true, \"color\": \"#FFFFFF\", \"dasharray\": \"none\", \"alpha\": 1.0}, \"visible\": true}], \"axesbg\": \"#EAEAF2\", \"axesbgalpha\": null, \"zoomable\": true, \"id\": \"el638844721968\", \"lines\": [], \"paths\": [], \"markers\": [], \"texts\": [{\"text\": \"coverage\", \"position\": [0.5, -0.06689410662920595], \"coordinates\": \"axes\", \"h_anchor\": \"middle\", \"v_baseline\": \"hanging\", \"rotation\": -0.0, \"fontsize\": 11.0, \"color\": \"#262626\", \"alpha\": 1, \"zorder\": 3, \"id\": \"el6388201053136\"}, {\"text\": \"density\", \"position\": [-0.0836176332865074, 0.5], \"coordinates\": \"axes\", \"h_anchor\": \"middle\", \"v_baseline\": \"auto\", \"rotation\": -90.0, \"fontsize\": 11.0, \"color\": \"#262626\", \"alpha\": 1, \"zorder\": 3, \"id\": \"el6388207943312\"}], \"collections\": [{\"offsets\": \"data01\", \"xindex\": 0, \"yindex\": 1, \"paths\": [[[[0.0, -0.5], [0.13260155, -0.5], [0.25978993539242673, -0.44731684579412084], [0.3535533905932738, -0.3535533905932738], [0.44731684579412084, -0.25978993539242673], [0.5, -0.13260155], [0.5, 0.0], [0.5, 0.13260155], [0.44731684579412084, 0.25978993539242673], [0.3535533905932738, 0.3535533905932738], [0.25978993539242673, 0.44731684579412084], [0.13260155, 0.5], [0.0, 0.5], [-0.13260155, 0.5], [-0.25978993539242673, 0.44731684579412084], [-0.3535533905932738, 0.3535533905932738], [-0.44731684579412084, 0.25978993539242673], [-0.5, 0.13260155], [-0.5, 0.0], [-0.5, -0.13260155], [-0.44731684579412084, -0.25978993539242673], [-0.3535533905932738, -0.3535533905932738], [-0.25978993539242673, -0.44731684579412084], [-0.13260155, -0.5], [0.0, -0.5]], [\"M\", \"C\", \"C\", \"C\", \"C\", \"C\", \"C\", \"C\", \"C\", \"Z\"]]], \"pathtransforms\": [[7.0, 0.0, 0.0, 7.0, 0.0, 0.0]], \"alphas\": [null], \"edgecolors\": [\"#440154\", \"#FDE724\", \"#FDE724\", \"#FDE724\", \"#FDE724\", \"#FDE724\", \"#FDE724\", \"#FDE724\", \"#FDE724\", \"#FDE724\", \"#FDE724\", \"#FDE724\", \"#FDE724\", \"#FDE724\", \"#FDE724\"], \"facecolors\": [\"#440154\", \"#FDE724\", \"#FDE724\", \"#FDE724\", \"#FDE724\", \"#FDE724\", \"#FDE724\", \"#FDE724\", \"#FDE724\", \"#FDE724\", \"#FDE724\", \"#FDE724\", \"#FDE724\", \"#FDE724\", \"#FDE724\"], \"edgewidths\": [0.3], \"offsetcoordinates\": \"data\", \"pathcoordinates\": \"display\", \"zorder\": 1, \"id\": \"el6388196745968\"}], \"images\": [], \"sharex\": [], \"sharey\": []}, {\"bbox\": [0.78375, 0.1250000000000001, 0.02595312500000002, 0.7549999999999999], \"xlim\": [0.0, 1.0], \"ylim\": [0.0, 1.0], \"xdomain\": [0.0, 1.0], \"ydomain\": [0.0, 1.0], \"xscale\": \"linear\", \"yscale\": \"linear\", \"axes\": [{\"position\": \"bottom\", \"nticks\": 0, \"tickvalues\": [], \"tickformat\": \"\", \"scale\": \"linear\", \"fontsize\": null, \"grid\": {\"gridOn\": false}, \"visible\": true}, {\"position\": \"right\", \"nticks\": 2, \"tickvalues\": [0.25, 0.75], \"tickformat\": [\"0\", \"1\"], \"scale\": \"linear\", \"fontsize\": 10.0, \"grid\": {\"gridOn\": false}, \"visible\": true}], \"axesbg\": \"#EAEAF2\", \"axesbgalpha\": null, \"zoomable\": false, \"id\": \"el6388196743504\", \"lines\": [], \"paths\": [], \"markers\": [], \"texts\": [{\"text\": \"nr. of restricted dimensions\", \"position\": [2.112114522710545, 0.5], \"coordinates\": \"axes\", \"h_anchor\": \"middle\", \"v_baseline\": \"hanging\", \"rotation\": -90.0, \"fontsize\": 11.0, \"color\": \"#262626\", \"alpha\": 1, \"zorder\": 3, \"id\": \"el638848375792\"}], \"collections\": [{\"offsets\": \"data02\", \"xindex\": 0, \"yindex\": 1, \"paths\": [[[[0.0, 0.0], [1.0, 0.0], [1.0, 0.5], [0.0, 0.5], [0.0, 0.0]], [\"M\", \"L\", \"L\", \"L\", \"L\"]], [[[0.0, 0.5], [1.0, 0.5], [1.0, 1.0], [0.0, 1.0], [0.0, 0.5]], [\"M\", \"L\", \"L\", \"L\", \"L\"]]], \"pathtransforms\": [], \"alphas\": [null], \"edgecolors\": [], \"facecolors\": [\"#440154\", \"#FDE724\"], \"edgewidths\": [0.3], \"offsetcoordinates\": \"display\", \"pathcoordinates\": \"data\", \"zorder\": 1, \"id\": \"el638846774576\"}, {\"offsets\": \"data02\", \"xindex\": 0, \"yindex\": 0, \"paths\": [[[[0.0, 0.5], [1.0, 0.5]], [\"M\", \"L\"]]], \"pathtransforms\": [], \"alphas\": [null], \"edgecolors\": [\"#FFFFFF\"], \"facecolors\": [], \"edgewidths\": [0.0], \"offsetcoordinates\": \"display\", \"pathcoordinates\": \"data\", \"zorder\": 2, \"id\": \"el638846772432\"}], \"images\": [], \"sharex\": [], \"sharey\": []}], \"data\": {\"data01\": [[1.0, 0.9008], [0.9498223801065719, 0.9102127659574468], [0.8974245115452931, 0.9186363636363636], [0.8414742451154529, 0.9243902439024391], [0.7855239786856127, 0.9310526315789474], [0.7482238010657194, 0.9361111111111111], [0.7109236234458259, 0.941764705882353], [0.6736234458259325, 0.948125], [0.6363232682060391, 0.9553333333333334], [0.5990230905861457, 0.9635714285714285], [0.5617229129662522, 0.9730769230769231], [0.5239786856127886, 0.9833333333333333], [0.4844582593250444, 0.9918181818181818], [0.4422735346358792, 0.996], [0.4218472468916519, 1.0]], \"data02\": [[0.0, 0.0]]}, \"id\": \"el6388190918768\", \"plugins\": [{\"type\": \"reset\"}, {\"type\": \"zoom\", \"button\": true, \"enabled\": false}, {\"type\": \"boxzoom\", \"button\": true, \"enabled\": false}, {\"type\": \"htmltooltip\", \"id\": \"el6388196745968\", \"labels\": [\"<table border=\\\"1\\\" class=\\\"dataframe\\\">\\n  <thead>\\n    <tr style=\\\"text-align: right;\\\">\\n      <th></th>\\n      <th>box 0</th>\\n    </tr>\\n  </thead>\\n  <tbody>\\n    <tr>\\n      <th>coverage</th>\\n      <td>1.00</td>\\n    </tr>\\n    <tr>\\n      <th>density</th>\\n      <td>0.90</td>\\n    </tr>\\n    <tr>\\n      <th>mass</th>\\n      <td>1.00</td>\\n    </tr>\\n    <tr>\\n      <th>res dim</th>\\n      <td>0.00</td>\\n    </tr>\\n  </tbody>\\n</table>\", \"<table border=\\\"1\\\" class=\\\"dataframe\\\">\\n  <thead>\\n    <tr style=\\\"text-align: right;\\\">\\n      <th></th>\\n      <th>box 1</th>\\n    </tr>\\n  </thead>\\n  <tbody>\\n    <tr>\\n      <th>coverage</th>\\n      <td>0.95</td>\\n    </tr>\\n    <tr>\\n      <th>density</th>\\n      <td>0.91</td>\\n    </tr>\\n    <tr>\\n      <th>mass</th>\\n      <td>0.94</td>\\n    </tr>\\n    <tr>\\n      <th>res dim</th>\\n      <td>1.00</td>\\n    </tr>\\n  </tbody>\\n</table>\", \"<table border=\\\"1\\\" class=\\\"dataframe\\\">\\n  <thead>\\n    <tr style=\\\"text-align: right;\\\">\\n      <th></th>\\n      <th>box 2</th>\\n    </tr>\\n  </thead>\\n  <tbody>\\n    <tr>\\n      <th>coverage</th>\\n      <td>0.90</td>\\n    </tr>\\n    <tr>\\n      <th>density</th>\\n      <td>0.92</td>\\n    </tr>\\n    <tr>\\n      <th>mass</th>\\n      <td>0.88</td>\\n    </tr>\\n    <tr>\\n      <th>res dim</th>\\n      <td>1.00</td>\\n    </tr>\\n  </tbody>\\n</table>\", \"<table border=\\\"1\\\" class=\\\"dataframe\\\">\\n  <thead>\\n    <tr style=\\\"text-align: right;\\\">\\n      <th></th>\\n      <th>box 3</th>\\n    </tr>\\n  </thead>\\n  <tbody>\\n    <tr>\\n      <th>coverage</th>\\n      <td>0.84</td>\\n    </tr>\\n    <tr>\\n      <th>density</th>\\n      <td>0.92</td>\\n    </tr>\\n    <tr>\\n      <th>mass</th>\\n      <td>0.82</td>\\n    </tr>\\n    <tr>\\n      <th>res dim</th>\\n      <td>1.00</td>\\n    </tr>\\n  </tbody>\\n</table>\", \"<table border=\\\"1\\\" class=\\\"dataframe\\\">\\n  <thead>\\n    <tr style=\\\"text-align: right;\\\">\\n      <th></th>\\n      <th>box 4</th>\\n    </tr>\\n  </thead>\\n  <tbody>\\n    <tr>\\n      <th>coverage</th>\\n      <td>0.79</td>\\n    </tr>\\n    <tr>\\n      <th>density</th>\\n      <td>0.93</td>\\n    </tr>\\n    <tr>\\n      <th>mass</th>\\n      <td>0.76</td>\\n    </tr>\\n    <tr>\\n      <th>res dim</th>\\n      <td>1.00</td>\\n    </tr>\\n  </tbody>\\n</table>\", \"<table border=\\\"1\\\" class=\\\"dataframe\\\">\\n  <thead>\\n    <tr style=\\\"text-align: right;\\\">\\n      <th></th>\\n      <th>box 5</th>\\n    </tr>\\n  </thead>\\n  <tbody>\\n    <tr>\\n      <th>coverage</th>\\n      <td>0.75</td>\\n    </tr>\\n    <tr>\\n      <th>density</th>\\n      <td>0.94</td>\\n    </tr>\\n    <tr>\\n      <th>mass</th>\\n      <td>0.72</td>\\n    </tr>\\n    <tr>\\n      <th>res dim</th>\\n      <td>1.00</td>\\n    </tr>\\n  </tbody>\\n</table>\", \"<table border=\\\"1\\\" class=\\\"dataframe\\\">\\n  <thead>\\n    <tr style=\\\"text-align: right;\\\">\\n      <th></th>\\n      <th>box 6</th>\\n    </tr>\\n  </thead>\\n  <tbody>\\n    <tr>\\n      <th>coverage</th>\\n      <td>0.71</td>\\n    </tr>\\n    <tr>\\n      <th>density</th>\\n      <td>0.94</td>\\n    </tr>\\n    <tr>\\n      <th>mass</th>\\n      <td>0.68</td>\\n    </tr>\\n    <tr>\\n      <th>res dim</th>\\n      <td>1.00</td>\\n    </tr>\\n  </tbody>\\n</table>\", \"<table border=\\\"1\\\" class=\\\"dataframe\\\">\\n  <thead>\\n    <tr style=\\\"text-align: right;\\\">\\n      <th></th>\\n      <th>box 7</th>\\n    </tr>\\n  </thead>\\n  <tbody>\\n    <tr>\\n      <th>coverage</th>\\n      <td>0.67</td>\\n    </tr>\\n    <tr>\\n      <th>density</th>\\n      <td>0.95</td>\\n    </tr>\\n    <tr>\\n      <th>mass</th>\\n      <td>0.64</td>\\n    </tr>\\n    <tr>\\n      <th>res dim</th>\\n      <td>1.00</td>\\n    </tr>\\n  </tbody>\\n</table>\", \"<table border=\\\"1\\\" class=\\\"dataframe\\\">\\n  <thead>\\n    <tr style=\\\"text-align: right;\\\">\\n      <th></th>\\n      <th>box 8</th>\\n    </tr>\\n  </thead>\\n  <tbody>\\n    <tr>\\n      <th>coverage</th>\\n      <td>0.64</td>\\n    </tr>\\n    <tr>\\n      <th>density</th>\\n      <td>0.96</td>\\n    </tr>\\n    <tr>\\n      <th>mass</th>\\n      <td>0.60</td>\\n    </tr>\\n    <tr>\\n      <th>res dim</th>\\n      <td>1.00</td>\\n    </tr>\\n  </tbody>\\n</table>\", \"<table border=\\\"1\\\" class=\\\"dataframe\\\">\\n  <thead>\\n    <tr style=\\\"text-align: right;\\\">\\n      <th></th>\\n      <th>box 9</th>\\n    </tr>\\n  </thead>\\n  <tbody>\\n    <tr>\\n      <th>coverage</th>\\n      <td>0.60</td>\\n    </tr>\\n    <tr>\\n      <th>density</th>\\n      <td>0.96</td>\\n    </tr>\\n    <tr>\\n      <th>mass</th>\\n      <td>0.56</td>\\n    </tr>\\n    <tr>\\n      <th>res dim</th>\\n      <td>1.00</td>\\n    </tr>\\n  </tbody>\\n</table>\", \"<table border=\\\"1\\\" class=\\\"dataframe\\\">\\n  <thead>\\n    <tr style=\\\"text-align: right;\\\">\\n      <th></th>\\n      <th>box 10</th>\\n    </tr>\\n  </thead>\\n  <tbody>\\n    <tr>\\n      <th>coverage</th>\\n      <td>0.56</td>\\n    </tr>\\n    <tr>\\n      <th>density</th>\\n      <td>0.97</td>\\n    </tr>\\n    <tr>\\n      <th>mass</th>\\n      <td>0.52</td>\\n    </tr>\\n    <tr>\\n      <th>res dim</th>\\n      <td>1.00</td>\\n    </tr>\\n  </tbody>\\n</table>\", \"<table border=\\\"1\\\" class=\\\"dataframe\\\">\\n  <thead>\\n    <tr style=\\\"text-align: right;\\\">\\n      <th></th>\\n      <th>box 11</th>\\n    </tr>\\n  </thead>\\n  <tbody>\\n    <tr>\\n      <th>coverage</th>\\n      <td>0.52</td>\\n    </tr>\\n    <tr>\\n      <th>density</th>\\n      <td>0.98</td>\\n    </tr>\\n    <tr>\\n      <th>mass</th>\\n      <td>0.48</td>\\n    </tr>\\n    <tr>\\n      <th>res dim</th>\\n      <td>1.00</td>\\n    </tr>\\n  </tbody>\\n</table>\", \"<table border=\\\"1\\\" class=\\\"dataframe\\\">\\n  <thead>\\n    <tr style=\\\"text-align: right;\\\">\\n      <th></th>\\n      <th>box 12</th>\\n    </tr>\\n  </thead>\\n  <tbody>\\n    <tr>\\n      <th>coverage</th>\\n      <td>0.48</td>\\n    </tr>\\n    <tr>\\n      <th>density</th>\\n      <td>0.99</td>\\n    </tr>\\n    <tr>\\n      <th>mass</th>\\n      <td>0.44</td>\\n    </tr>\\n    <tr>\\n      <th>res dim</th>\\n      <td>1.00</td>\\n    </tr>\\n  </tbody>\\n</table>\", \"<table border=\\\"1\\\" class=\\\"dataframe\\\">\\n  <thead>\\n    <tr style=\\\"text-align: right;\\\">\\n      <th></th>\\n      <th>box 13</th>\\n    </tr>\\n  </thead>\\n  <tbody>\\n    <tr>\\n      <th>coverage</th>\\n      <td>0.44</td>\\n    </tr>\\n    <tr>\\n      <th>density</th>\\n      <td>1.00</td>\\n    </tr>\\n    <tr>\\n      <th>mass</th>\\n      <td>0.40</td>\\n    </tr>\\n    <tr>\\n      <th>res dim</th>\\n      <td>1.00</td>\\n    </tr>\\n  </tbody>\\n</table>\", \"<table border=\\\"1\\\" class=\\\"dataframe\\\">\\n  <thead>\\n    <tr style=\\\"text-align: right;\\\">\\n      <th></th>\\n      <th>box 14</th>\\n    </tr>\\n  </thead>\\n  <tbody>\\n    <tr>\\n      <th>coverage</th>\\n      <td>0.42</td>\\n    </tr>\\n    <tr>\\n      <th>density</th>\\n      <td>1.00</td>\\n    </tr>\\n    <tr>\\n      <th>mass</th>\\n      <td>0.38</td>\\n    </tr>\\n    <tr>\\n      <th>res dim</th>\\n      <td>1.00</td>\\n    </tr>\\n  </tbody>\\n</table>\"], \"hoffset\": 10, \"voffset\": 10}]});\n",
       "            })\n",
       "         });\n",
       "}\n",
       "</script>"
      ],
      "text/plain": [
       "<IPython.core.display.HTML object>"
      ]
     },
     "execution_count": 59,
     "metadata": {},
     "output_type": "execute_result"
    }
   ],
   "source": [
    "box_1.show_ppt()\n",
    "plt.show()\n",
    "box_1.show_tradeoff()\n",
    "mpld3.display()"
   ]
  },
  {
   "cell_type": "code",
   "execution_count": 60,
   "metadata": {
    "collapsed": false
   },
   "outputs": [
    {
     "data": {
      "image/png": "[encoded data removed]",
      "text/plain": [
       "<matplotlib.figure.Figure at 0xc6c3310>"
      ]
     },
     "metadata": {},
     "output_type": "display_data"
    }
   ],
   "source": [
    "box_1.inspect(2, style='graph')\n",
    "plt.show()"
   ]
  },
  {
   "cell_type": "markdown",
   "metadata": {},
   "source": [
    "## Multi-objective robust optimization"
   ]
  },
  {
   "cell_type": "code",
   "execution_count": 61,
   "metadata": {
    "collapsed": true
   },
   "outputs": [],
   "source": [
    "import functools\n",
    "from ema_workbench.em_framework.samplers import sample_uncertainties"
   ]
  },
  {
   "cell_type": "code",
   "execution_count": 73,
   "metadata": {
    "collapsed": false
   },
   "outputs": [
    {
     "ename": "TypeError",
     "evalue": "__init__() got an unexpected keyword argument 'kind'",
     "output_type": "error",
     "traceback": [
      "\u001b[0;31m---------------------------------------------------------------------------\u001b[0m",
      "\u001b[0;31mTypeError\u001b[0m                                 Traceback (most recent call last)",
      "\u001b[0;32m<ipython-input-73-86b0d0fbaa7c>\u001b[0m in \u001b[0;36m<module>\u001b[0;34m()\u001b[0m\n\u001b[1;32m      3\u001b[0m \u001b[1;33m\u001b[0m\u001b[0m\n\u001b[1;32m      4\u001b[0m robustness_functions = [TimeSeriesOutcome(\"NPV\", kind=TimeSeriesOutcome.MAXIMIZE, \n\u001b[0;32m----> 5\u001b[0;31m                         variable_name='Mean_NPV', function=np.mean),\n\u001b[0m\u001b[1;32m      6\u001b[0m                         TimeSeriesOutcome(\"P_direct_emission_change\", kind=TimeSeriesOutcome.MINIMIZE, \n\u001b[1;32m      7\u001b[0m                         variable_name='Mean_DEC', function=np.mean)\n",
      "\u001b[0;31mTypeError\u001b[0m: __init__() got an unexpected keyword argument 'kind'"
     ]
    }
   ],
   "source": [
    "MAXIMIZE = TimeSeriesOutcome.MAXIMIZE  # @UndefinedVariable\n",
    "MINIMIZE = TimeSeriesOutcome.MINIMIZE  # @UndefinedVariable\n",
    "\n",
    "robustness_functions = [TimeSeriesOutcome(\"NPV\", kind=TimeSeriesOutcome.MAXIMIZE, \n",
    "                        variable_name='Mean_NPV', function=np.mean),\n",
    "                        TimeSeriesOutcome(\"P_direct_emission_change\", kind=TimeSeriesOutcome.MINIMIZE, \n",
    "                        variable_name='Mean_DEC', function=np.mean)\n",
    "                       ]\n",
    "\n",
    "n_scenarios = 10\n",
    "scenarios = sample_uncertainties(model, n_scenarios)\n",
    "nfe = 100\n",
    "\n",
    "with SequentialEvaluator(model) as evaluator:\n",
    "    robust_results = evaluator.robust_optimize(robustnes_functions, \n",
    "                            scenarios, nfe=nfe, population_size=25,\n",
    "                            epsilons=[0.1,]*len(robustnes_functions))"
   ]
  },
  {
   "cell_type": "code",
   "execution_count": null,
   "metadata": {
    "collapsed": true
   },
   "outputs": [],
   "source": []
  }
 ],
 "metadata": {
  "kernelspec": {
   "display_name": "Python 3",
   "language": "python",
   "name": "python3"
  },
  "language_info": {
   "codemirror_mode": {
    "name": "ipython",
    "version": 3
   },
   "file_extension": ".py",
   "mimetype": "text/x-python",
   "name": "python",
   "nbconvert_exporter": "python",
   "pygments_lexer": "ipython3",
   "version": "3.6.0"
  }
 },
 "nbformat": 4,
 "nbformat_minor": 2
}
