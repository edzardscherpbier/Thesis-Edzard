{
 "cells": [
  {
   "cell_type": "markdown",
   "metadata": {},
   "source": [
    "## Model initialization"
   ]
  },
  {
   "cell_type": "code",
   "execution_count": 1,
   "metadata": {
    "collapsed": false
   },
   "outputs": [
    {
     "name": "stderr",
     "output_type": "stream",
     "text": [
      "C:\\Users\\Edzard\\Anaconda\\lib\\site-packages\\ema_workbench\\em_framework\\optimization.py:29: ImportWarning: platypus based optimization not available\n",
      "  warnings.warn(\"platypus based optimization not available\", ImportWarning)\n",
      "C:\\Users\\Edzard\\Anaconda\\lib\\site-packages\\ema_workbench\\connectors\\__init__.py:18: ImportWarning: netlogo connector not available\n",
      "  warnings.warn(\"netlogo connector not available\", ImportWarning)\n",
      "C:\\Users\\Edzard\\Anaconda\\lib\\importlib\\_bootstrap.py:205: ImportWarning: can't resolve package from __spec__ or __package__, falling back on __name__ and __path__\n",
      "  return f(*args, **kwds)\n",
      "C:\\Users\\Edzard\\Anaconda\\lib\\importlib\\_bootstrap.py:205: ImportWarning: can't resolve package from __spec__ or __package__, falling back on __name__ and __path__\n",
      "  return f(*args, **kwds)\n"
     ]
    }
   ],
   "source": [
    "from __future__ import (division, print_function, absolute_import, unicode_literals)\n",
    "from ema_workbench import (RealParameter, IntegerParameter,\n",
    "                           TimeSeriesOutcome, ScalarOutcome, \n",
    "                           ema_logging, perform_experiments)\n",
    "from ema_workbench.connectors.excel import ExcelModel\n",
    "from ema_workbench.em_framework import (salib_samplers, IpyparallelEvaluator, samplers, util,\n",
    "                                        MultiprocessingEvaluator, SequentialEvaluator) \n",
    "from ema_workbench.analysis import prim\n",
    "from ema_workbench import ema_logging\n",
    "ema_logging.log_to_stderr(ema_logging.INFO)\n",
    "\n",
    "import numpy.lib.recfunctions as rf\n",
    "import numpy as np\n",
    "import matplotlib.pyplot as plt\n",
    "import mpld3\n",
    "import pandas as pd"
   ]
  },
  {
   "cell_type": "code",
   "execution_count": null,
   "metadata": {
    "collapsed": false
   },
   "outputs": [],
   "source": [
    "ema_logging.log_to_stderr(level=ema_logging.INFO)\n",
    "\n",
    "model = ExcelModel(\"excelmodel\", wd=\"./Models\", model_file='MIDDEN Decarbonization options salt.xlsx')\n",
    "\n",
    "#name of the sheet\n",
    "model.sheet = \"Experiment\"\n",
    "\n",
    "# Specification of the uncertainties\n",
    "model.uncertainties = [IntegerParameter(\"Price_scenario\", 1, 3),             # Integer value 1, 2, 3\n",
    "                       RealParameter(\"Discount_rate\", 0.01, 0.05),           # May fluctuate between 2% and 5%\n",
    "                       RealParameter(\"Production_uncertainty\", 0.90, 1.10),  # May fluctuate between between 85% and 115% \n",
    "                       RealParameter(\"Efficiency_gain\", 0.003, 0.007),       # Yearly efficiency gain approx 0.5% (DNGVL)\n",
    "                       #IntegerParameter(\"Plant_number\", 1, 4),               # 1=Hengelo; 2=Delfzijl; 3=Harlingen; 4=Veendam\n",
    "                       IntegerParameter(\"Investment_year\", 2020, 2030)       # Integer value range 2020 – 2030\n",
    "                      ]\n",
    "\n",
    "\n",
    "# Specification of the policies\n",
    "model.levers = [IntegerParameter('Decarbonization_pathway', 0, 3), # 0=None; 1=Electric boilers; 2=MVR technology; 3=Hybrid\n",
    "                IntegerParameter('Energy_tax', 0, 2)               # 0=None; 1=10%; 2=20%\n",
    "               ]\n",
    "\n",
    "# Specification of the outcomes\n",
    "model.outcomes = [ScalarOutcome('IRR', kind=ScalarOutcome.MAXIMIZE),\n",
    "                  ScalarOutcome(\"P_direct_emission_change\", kind=ScalarOutcome.MINIMIZE),\n",
    "                  ScalarOutcome(\"P_indirect_emission_change\", kind=ScalarOutcome.MINIMIZE),\n",
    "                  ScalarOutcome(\"NPV\", kind=ScalarOutcome.MAXIMIZE),\n",
    "                  ScalarOutcome(\"Energy_usage_change\", kind=ScalarOutcome.MINIMIZE),\n",
    "                  ScalarOutcome(\"Direct_emissions_change\", kind=ScalarOutcome.MINIMIZE),\n",
    "                  ScalarOutcome(\"Indirect_emissions_change\", kind=ScalarOutcome.MINIMIZE),\n",
    "                  ScalarOutcome(\"Emissions_change\", kind=ScalarOutcome.MINIMIZE)\n",
    "                 ]"
   ]
  },
  {
   "cell_type": "markdown",
   "metadata": {},
   "source": [
    " ### Running experiment with policies\n"
   ]
  },
  {
   "cell_type": "code",
   "execution_count": null,
   "metadata": {
    "collapsed": false
   },
   "outputs": [
    {
     "name": "stderr",
     "output_type": "stream",
     "text": [
      "[MainProcess/INFO] pool started\n",
      "[MainProcess/INFO] performing 1000 scenarios * 12 policies * 1 model(s) = 12000 experiments\n",
      "[MainProcess/INFO] 1200 cases completed\n",
      "[MainProcess/INFO] 2400 cases completed\n",
      "[MainProcess/INFO] 3600 cases completed\n",
      "[MainProcess/INFO] 4800 cases completed\n",
      "[MainProcess/INFO] 6000 cases completed\n"
     ]
    }
   ],
   "source": [
    "#Running with policies\n",
    "n_scenarios = 1000\n",
    "n_policies = 12\n",
    "\n",
    "counter = util.Counter()\n",
    "policies = samplers.sample_levers(model, n_policies)\n",
    "\n",
    "#Running in series\n",
    "#results = perform_experiments(model, n_scenarios)\n",
    "#experiments, outcomes = results\n",
    "\n",
    "#Running in parallel\n",
    "with MultiprocessingEvaluator(model) as evaluator:\n",
    "    results = evaluator.perform_experiments(n_scenarios, policies)\n",
    "experiments, outcomes = results"
   ]
  },
  {
   "cell_type": "code",
   "execution_count": null,
   "metadata": {
    "collapsed": false
   },
   "outputs": [],
   "source": [
    "# Inspection of outcomes of interest\n",
    "oois = outcomes.keys()\n",
    "for ooi in oois:\n",
    "    value = outcomes[ooi]\n",
    "    i=len(ooi)\n",
    "    print(ooi, (20-i)*\" \", np.mean(value), 3*\" \", np.std(value))"
   ]
  },
  {
   "cell_type": "code",
   "execution_count": null,
   "metadata": {
    "collapsed": false
   },
   "outputs": [],
   "source": [
    "# Creating experiment DataFrame\n",
    "experiment_data=pd.DataFrame(experiments)\n",
    "outcome_data = pd.DataFrame(outcomes)"
   ]
  },
  {
   "cell_type": "code",
   "execution_count": null,
   "metadata": {
    "collapsed": false,
    "scrolled": true
   },
   "outputs": [],
   "source": [
    "results_df=pd.concat([experiment_data, outcome_data], axis=1)\n",
    "results_df.head(3)"
   ]
  },
  {
   "cell_type": "markdown",
   "metadata": {},
   "source": [
    "## Scenario discovery"
   ]
  },
  {
   "cell_type": "code",
   "execution_count": null,
   "metadata": {
    "collapsed": false
   },
   "outputs": [],
   "source": [
    "outcome_data_test=outcome_data\n",
    "outcome_data_test['P_direct_emission_change_negative']=outcome_data_test.P_direct_emission_change<0\n",
    "outcome_data_test['P_indirect_emission_change_negative']=outcome_data_test.P_indirect_emission_change<5.25\n",
    "outcome_data_test['P_both_emission_change_negative']=outcome_data_test['P_direct_emission_change_negative']&outcome_data_test['P_indirect_emission_change_negative']\n",
    "outcome_data_test['IRR_positive']=outcome_data_test.IRR>0\n"
   ]
  },
  {
   "cell_type": "code",
   "execution_count": null,
   "metadata": {
    "collapsed": false
   },
   "outputs": [],
   "source": [
    "experiment_data.head(3)"
   ]
  },
  {
   "cell_type": "code",
   "execution_count": null,
   "metadata": {
    "collapsed": false
   },
   "outputs": [],
   "source": [
    "# Selecting relevant dataframes for scenario analysis\n",
    "#x_df=experiment_data.ix[:,0:5]\n",
    "x_df=experiment_data[['Discount_rate','Efficiency_gain','Production_uncertainty','Investment_year']]\n",
    "y_df=outcome_data['P_direct_emission_change_negative']&outcome_data_test['IRR_positive']#&outcome_data_test['P_indirect_emission_change_negative']\n",
    "\n",
    "# Converting dataframes to arrays\n",
    "x = x_df.to_records(index=False)\n",
    "y = y_df.values\n",
    "\n",
    "# Running the Patient rule induction (PRIM) algorithm \n",
    "prim_alg = prim.Prim(x,y, threshold=0.3)\n",
    "box_1 = prim_alg.find_box()"
   ]
  },
  {
   "cell_type": "code",
   "execution_count": null,
   "metadata": {
    "collapsed": false
   },
   "outputs": [],
   "source": [
    "box_1.show_ppt()\n",
    "plt.show()\n",
    "box_1.show_tradeoff()\n",
    "mpld3.display()"
   ]
  },
  {
   "cell_type": "code",
   "execution_count": null,
   "metadata": {
    "collapsed": false
   },
   "outputs": [],
   "source": [
    "box_1.inspect(4, style='graph')\n",
    "plt.show()"
   ]
  },
  {
   "cell_type": "markdown",
   "metadata": {},
   "source": [
    "## Basic analysis of results"
   ]
  },
  {
   "cell_type": "code",
   "execution_count": null,
   "metadata": {
    "collapsed": true
   },
   "outputs": [],
   "source": [
    "import numpy as np\n",
    "import scipy as sp\n",
    "import pandas as pd\n",
    "import matplotlib.pyplot as plt\n",
    "import seaborn as sns"
   ]
  },
  {
   "cell_type": "code",
   "execution_count": null,
   "metadata": {
    "collapsed": false,
    "scrolled": true
   },
   "outputs": [],
   "source": [
    "import ema_workbench.analysis.pairs_plotting as pairs\n",
    "\n",
    "fig, axes = pairs.pairs_scatter(results, group_by='policy', legend=False)\n",
    "\n",
    "#change_fontsize(fig)\n",
    "fig.set_figheight(15)\n",
    "fig.set_figwidth(15)\n",
    "\n",
    "for ax in axes.values():\n",
    "    ax.locator_params(nbins=4)\n",
    "#save_fig(fig, './figs/', 'pair_plot')\n",
    "\n",
    "plt.show()"
   ]
  },
  {
   "cell_type": "code",
   "execution_count": null,
   "metadata": {
    "collapsed": false
   },
   "outputs": [],
   "source": [
    "import copy\n",
    "experiments, outcomes = results\n",
    "policy_column = experiments['policy']\n",
    "\n",
    "data = copy.copy(outcomes)\n",
    "data['policy'] = policy_column\n",
    "data.keys()\n",
    "data = pd.DataFrame(data)\n",
    "plotdata=data[['NPV','IRR','P_direct_emission_change','P_indirect_emission_change','policy']]\n",
    "#for entry, name in zip(np.unique(policy_column), 'abcd'):\n",
    "#    data.replace(entry, name, inplace=True)\n",
    "\n",
    "sns.set(style=\"ticks\", color_codes=True)    \n",
    "with sns.axes_style('white'):\n",
    "    sns.pairplot(plotdata, hue='policy')\n",
    "plt.show()"
   ]
  },
  {
   "cell_type": "markdown",
   "metadata": {},
   "source": [
    "## Policy optimization"
   ]
  },
  {
   "cell_type": "code",
   "execution_count": null,
   "metadata": {
    "collapsed": false
   },
   "outputs": [],
   "source": [
    "import functools\n",
    "from ema_workbench.em_framework.samplers import sample_uncertainties\n",
    "from ema_workbench.em_framework.evaluators import (optimize, robust_optimize)"
   ]
  },
  {
   "cell_type": "code",
   "execution_count": null,
   "metadata": {
    "collapsed": false
   },
   "outputs": [],
   "source": [
    "with MultiprocessingEvaluator(model) as evaluator:\n",
    "    optimization_results = evaluator.optimize(searchover='levers', nfe=1000, epsilons=[0.1,]*len(model.outcomes))"
   ]
  },
  {
   "cell_type": "code",
   "execution_count": null,
   "metadata": {
    "collapsed": true
   },
   "outputs": [],
   "source": [
    "MAXIMIZE = ScalarOutcome.MAXIMIZE  # @UndefinedVariable\n",
    "MINIMIZE = ScalarOutcome.MINIMIZE  # @UndefinedVariable\n",
    "\n",
    "robustness_functions = [\n",
    "    ScalarOutcome(\"IRR\", kind=MAXIMIZE, variable_name='Mean_IRR', function=np.mean),\n",
    "    ScalarOutcome(\"P_direct_emission_change\", kind=MINIMIZE, variable_name='Mean_DEC', function=np.mean),\n",
    "    ScalarOutcome(\"P_indirect_emission_change\", kind=MINIMIZE, variable_name='Mean_IEC', function=np.mean)\n",
    "]\n",
    "\n",
    "n_scenarios = 10\n",
    "scenarios = sample_uncertainties(model, n_scenarios)\n",
    "nfe = 1000\n",
    "\n",
    "#with SequentialEvaluator(model) as evaluator:\n",
    "robust_results = evaluator.robust_optimize(robustness_functions, scenarios, nfe=nfe, population_size=10,\n",
    "                            epsilons=[0.1,]*len(robustness_functions))"
   ]
  }
 ],
 "metadata": {
  "kernelspec": {
   "display_name": "Python 3",
   "language": "python",
   "name": "python3"
  },
  "language_info": {
   "codemirror_mode": {
    "name": "ipython",
    "version": 3
   },
   "file_extension": ".py",
   "mimetype": "text/x-python",
   "name": "python",
   "nbconvert_exporter": "python",
   "pygments_lexer": "ipython3",
   "version": "3.6.0"
  }
 },
 "nbformat": 4,
 "nbformat_minor": 2
}
